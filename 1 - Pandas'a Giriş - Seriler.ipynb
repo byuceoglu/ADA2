{
 "cells": [
  {
   "cell_type": "markdown",
   "metadata": {},
   "source": [
    "`Pandas` veri analitiği alanında, özellikle veri işleme ve analizi için sıklıkla kullanılan bir Python paketi. `Pandas` paketi seri (`Series`) ve veri çerçevesi (`DataFrame`) isimli iki veri yapısının üzerine kurulmuş. Bunlardan serileri tek boyutlu diziler, veri çerçevelerini ise iki boyutlu matrisler (ya da her kolonu bir seriden oluşan yapı) gibi düşünebiliriz. Ancak `Pandas` paketi liste ve matrislerden farklı işlevler sunuyor. Örnek olarak SQL tablolarında kullanılan tablo birleştirme (join) gibi işlemleri de `Pandas` sayesinde yapmak mümkün.\n",
    "\n",
    "`Pandas` paketiyle yapabileceğimiz temel işlemleri aşağıda bulabilirsiniz:\n",
    "* Veriyi çeşitli formatlardaki dosyalardan okutmak ve dosyalara yazdırmak mümkün. `Pandas`, metin ve Excel dosyalarının yanında, Stata ve SAS gibi yazılımların formatlarını da destekliyor. \n",
    "* Eksik değerleri doldurmak/çıkarmak için yöntemler içeriyor.\n",
    "* Çeşitli veri çerçevelerini birleştirmek (SQL dilindeki JOIN ve MERGE işlemleri) mümkün.\n",
    "* Farklı türlerde grafikler çizdirebiliriz. \n",
    "* Groupby fonksiyonu sayesinde veriyi gruplara bölerek, yapacağımız işlemlerle (toplama, sayma, ortalama alma gibi) özetleyebiliriz. `Groupby` konusunda yazdığımız detaylı bir yazıya [linkten](http://www.veridefteri.com/2017/10/30/groupby/) erişebilirsiniz. \n",
    "\n",
    "`Pandas` ile ilgili yazı serisinin ilk bölümünde seri veri yapısını inceleyeceğiz. Burada kullandığımız yöntemlerin çoğu veri çerçeveleri için de geçerli olacaktır. Pandas serilerine giriş amacıyla IMF'nin gayrisafi yurt içi hasıla verisini kullanacağız. Detaylı veri setine [linkten](http://www.imf.org/external/pubs/ft/weo/2017/02/weodata/download.aspx) erişebilirsiniz. Ben küçük bir örneklemle çalıştığım için veriyi okutmayla ilgili kısımlara, veri çerçeveleriyle ilgili yazıda değineceğim.\n",
    "\n",
    "# Seriler\n",
    "\n",
    "Seri, etiketli verilerden oluşan tek boyutlu bir veri yapısıdır. Etiket değerlerine indeks denir. Verinin kendisi sayılar, dizeler ya da başka Python objelerinden oluşabilir. Serileri oluşturmak için listeler, sıralı diziler ya da sözlükler kullanılabilir. 10 ülkenin 2017 yılının GSYİH değerlerinden oluşan bir seri oluşturalım. Dikkat etmemiz gereken nokta indeks ve verinin aynı boyutta olması. Bunu sağlayamazsak hata mesajı alacağız."
   ]
  },
  {
   "cell_type": "code",
   "execution_count": 1,
   "metadata": {},
   "outputs": [
    {
     "name": "stdout",
     "output_type": "stream",
     "text": [
      "0    19362.13\n",
      "1    11937.56\n",
      "2     4884.49\n",
      "3     3651.87\n",
      "4     2574.81\n",
      "5     2565.05\n",
      "6     2439.01\n",
      "7     2080.92\n",
      "8     1921.14\n",
      "9     1640.39\n",
      "dtype: float64\n"
     ]
    }
   ],
   "source": [
    "%matplotlib inline\n",
    "import matplotlib.pyplot as plt\n",
    "\n",
    "#Pandas paketini yükleyelim\n",
    "import pandas as pd \n",
    "import numpy as np\n",
    "\n",
    "#GSYİH değeri en yüksek olan 10 ülkenin değerlerini kullanacağız.\n",
    "gdp_data_2017 = [19362.13, 11937.56, 4884.49, 3651.87, 2574.81, 2565.05, 2439.01, 2080.92, 1921.14, 1640.39]\n",
    "\n",
    "#Seriyi oluşturalım. İndeks değerini vermediğimizde, Pandas 0'dan başlayarak veriyi indeksler.\n",
    "gdp_2017 = pd.Series(gdp_data_2017)\n",
    "print(gdp_2017)"
   ]
  },
  {
   "cell_type": "markdown",
   "metadata": {},
   "source": [
    "İndeks değeri vermediğimizde seri pek anlamlı durmuyor. İndeks değerlerini bir liste olarak sonradan atayabilir ya da seriyi oluştururken belirtebiliriz."
   ]
  },
  {
   "cell_type": "code",
   "execution_count": 2,
   "metadata": {},
   "outputs": [
    {
     "name": "stdout",
     "output_type": "stream",
     "text": [
      "ABD                 19362.13\n",
      "Çin                 11937.56\n",
      "Japonya              4884.49\n",
      "Almanya              3651.87\n",
      "Fransa               2574.81\n",
      "Birleşik Krallık     2565.05\n",
      "Hindistan            2439.01\n",
      "Brezilya             2080.92\n",
      "İtalya               1921.14\n",
      "Kanada               1640.39\n",
      "dtype: float64\n"
     ]
    }
   ],
   "source": [
    "# İndeks değerlerini içeren listeyi oluşturalım.\n",
    "gdp_index_2017 = ['ABD', 'Çin', 'Japonya', 'Almanya', 'Fransa', 'Birleşik Krallık', 'Hindistan', 'Brezilya', 'İtalya', 'Kanada']\n",
    "\n",
    "# Serinin indeks değerini oluşturduğumuz listeye eşitleyelim.\n",
    "gdp_2017.index = gdp_index_2017\n",
    "print(gdp_2017)\n",
    "\n",
    "# Seriyi oluştururken indeks değerlerini belirtmek için aşağıdaki satırı kullanabiliriz.\n",
    "#gdp_2017 = pd.Series(gdp_data_2017, index = gdp_index_2017)"
   ]
  },
  {
   "cell_type": "markdown",
   "metadata": {},
   "source": [
    "2016 yılı için de aşağıdaki gibi sözlük veri yapısını kullanarak bir seri oluşturalım. Bu sefer seriyi oluşturmak için bir sözlük kullanacağız. "
   ]
  },
  {
   "cell_type": "code",
   "execution_count": 3,
   "metadata": {},
   "outputs": [
    {
     "name": "stdout",
     "output_type": "stream",
     "text": [
      "ABD                 18624.45\n",
      "Çin                 11232.11\n",
      "Japonya              4936.54\n",
      "Almanya              3479.23\n",
      "Fransa               2466.47\n",
      "Birleşik Krallık     2629.19\n",
      "Hindistan            2263.79\n",
      "Brezilya             1798.62\n",
      "İtalya               1850.74\n",
      "Kanada               1529.76\n",
      "dtype: float64\n"
     ]
    }
   ],
   "source": [
    "d = {'ABD':18624.45,\n",
    "'Çin':11232.11,\n",
    "'Japonya':4936.54,\n",
    "'Almanya':3479.23,\n",
    "'Fransa':2466.47,\n",
    "'Birleşik Krallık':2629.19,\n",
    "'Hindistan':2263.79,\n",
    "'Brezilya':1798.62,\n",
    "'İtalya':1850.74,\n",
    "'Kanada':1529.76}\n",
    "\n",
    "gdp_2016 = pd.Series(d)\n",
    "\n",
    "print(gdp_2016)"
   ]
  },
  {
   "cell_type": "markdown",
   "metadata": {},
   "source": [
    "Sözlük yapısıyla girdiğimiz verilerin sırasının değiştiğini, alfabetik olarak sıralandığını görüyoruz. `Pandas` indeksin değerine göre işlem yaptığı için bunun bir önemi yok. \n",
    "\n",
    "Veri kümesini genişletmek istediğimizde iki seçeneğimiz var:\n",
    "* Köşeli parantez ile veriyi girebiliriz.\n",
    "* Oluşturduğumuz ikinci bir seriyi `append` fonksiyonuyla ilk seriye ekleyebiliriz. \n",
    "\n",
    "Köşeli parantezle girdiğimiz veri o indekse sahip bütün girdileri sağladığımız değere eşitler. Eğer o indekse sahip bir değer yoksa seriye yeni bir eleman ekler."
   ]
  },
  {
   "cell_type": "code",
   "execution_count": 4,
   "metadata": {},
   "outputs": [
    {
     "name": "stdout",
     "output_type": "stream",
     "text": [
      "ABD                 18624.45\n",
      "Çin                 11232.11\n",
      "Japonya              4936.54\n",
      "Almanya              3479.23\n",
      "Fransa               2466.47\n",
      "Birleşik Krallık     2629.19\n",
      "Hindistan            2263.79\n",
      "Brezilya             1798.62\n",
      "İtalya               1850.74\n",
      "Kanada               1529.76\n",
      "Kore                 1411.04\n",
      "dtype: float64\n"
     ]
    }
   ],
   "source": [
    "# Kore'nin GSYİH değerini giriyoruz. \n",
    "# Seride 'Korea' indeksine sahip bir eleman olmadığı için seriye yeni bir eleman eklenecek.\n",
    "gdp_2016['Kore'] = 1411.04\n",
    "\n",
    "print(gdp_2016)\n",
    "\n",
    "#Aşağıdaki satırı eklemiş olsaydık yeni bir gözlem eklemek yerine var olan gözlemi değiştirmiş olacaktık.\n",
    "#gdp['China'] = 1411.04 "
   ]
  },
  {
   "cell_type": "markdown",
   "metadata": {},
   "source": [
    "`append` fonksiyonunu kullandığımızda ise bir seri, diğerinin sonuna eklenir. Burada dikkat etmemiz gereken nokta aynı indekse sahip elemanlar varsa bunların çoğullanacak olmasıdır. Sözlüğün içinde aynı indekse sahip girdiler varsa en sonuncusu alınır. Aşağıdaki örnekte Meksika'nın tek girdisi olmasına rağmen ABD'nin iki girdisi olduğunu görüyoruz."
   ]
  },
  {
   "cell_type": "code",
   "execution_count": 5,
   "metadata": {},
   "outputs": [
    {
     "name": "stdout",
     "output_type": "stream",
     "text": [
      "ABD                 18624.450\n",
      "Çin                 11232.110\n",
      "Japonya              4936.540\n",
      "Almanya              3479.230\n",
      "Fransa               2466.470\n",
      "Birleşik Krallık     2629.190\n",
      "Hindistan            2263.790\n",
      "Brezilya             1798.620\n",
      "İtalya               1850.740\n",
      "Kanada               1529.760\n",
      "Kore                 1411.040\n",
      "Rusya                1365.865\n",
      "Avustralya           1229.938\n",
      "İspanya              1193.556\n",
      "Meksika              1046.925\n",
      "ABD                     0.000\n",
      "dtype: float64\n"
     ]
    }
   ],
   "source": [
    "d1 = {'Rusya' : 1365.865,\n",
    "'Avustralya' : 1229.938,\n",
    "'İspanya' : 1193.556,\n",
    "'Meksika' : np.NaN,\n",
    "'Meksika' : 1,\n",
    "'Meksika' : 1046.925,\n",
    "'ABD' : 0\n",
    "}\n",
    "\n",
    "gdp_2016 = gdp_2016.append(pd.Series(d1))\n",
    "print(gdp_2016)"
   ]
  },
  {
   "cell_type": "markdown",
   "metadata": {},
   "source": [
    "# Temel Metotlar ve Erişim\n",
    "\n",
    "Seriler veri ve indeks değerlerinden oluşur. `values` ve `index` metotlarıyla bunlara erişmek mümkündür. \n",
    "\n",
    "Yazının geri kalanında, kimi çıktılarda kullanılan biçimlendirmeyi (`format`)  öğrenmek için Kaan'ın [dize biçimlendirme](http://www.veridefteri.com/2018/02/23/python-programlamaya-giris-16-dize-bicimlendirme/) yazısını inceleyebilirsiniz. "
   ]
  },
  {
   "cell_type": "code",
   "execution_count": 6,
   "metadata": {},
   "outputs": [
    {
     "name": "stdout",
     "output_type": "stream",
     "text": [
      "GSYİH değerleri: [19362.13 11937.56  4884.49  3651.87  2574.81  2565.05  2439.01  2080.92\n",
      "  1921.14  1640.39]\n",
      "İndeks değerleri: Index(['ABD', 'Çin', 'Japonya', 'Almanya', 'Fransa', 'Birleşik Krallık',\n",
      "       'Hindistan', 'Brezilya', 'İtalya', 'Kanada'],\n",
      "      dtype='object')\n"
     ]
    }
   ],
   "source": [
    "print('GSYİH değerleri: {}'.format(gdp_2017.values))\n",
    "print('İndeks değerleri: {}'.format(gdp_2017.index))"
   ]
  },
  {
   "cell_type": "markdown",
   "metadata": {},
   "source": [
    "`ndim` boyutu, `shape` şekli, `size` ise serinin uzunluğunu verir."
   ]
  },
  {
   "cell_type": "code",
   "execution_count": 7,
   "metadata": {},
   "outputs": [
    {
     "name": "stdout",
     "output_type": "stream",
     "text": [
      "Boyut: 1\n",
      "Şekil: (10,)\n",
      "Uzunluk: 10\n"
     ]
    }
   ],
   "source": [
    "print('Boyut: {}'.format(gdp_2017.ndim))\n",
    "print('Şekil: {}'.format(gdp_2017.shape))\n",
    "print('Uzunluk: {}'.format(gdp_2017.size))"
   ]
  },
  {
   "cell_type": "markdown",
   "metadata": {},
   "source": [
    "Serideki değerlerin ve indeksin adını da belirtmek mümkün. Bunun için `name` metodunu kullanabiliriz. İndeksin ülkeler, verinin de GSYİH olduğunu belirtelim."
   ]
  },
  {
   "cell_type": "code",
   "execution_count": 8,
   "metadata": {},
   "outputs": [
    {
     "name": "stdout",
     "output_type": "stream",
     "text": [
      "Ülkeler\n",
      "ABD                 19362.13\n",
      "Çin                 11937.56\n",
      "Japonya              4884.49\n",
      "Almanya              3651.87\n",
      "Fransa               2574.81\n",
      "Birleşik Krallık     2565.05\n",
      "Hindistan            2439.01\n",
      "Brezilya             2080.92\n",
      "İtalya               1921.14\n",
      "Kanada               1640.39\n",
      "Name: GSYİH, dtype: float64\n"
     ]
    }
   ],
   "source": [
    "gdp_2017.name = 'GSYİH'\n",
    "gdp_2017.index.name = 'Ülkeler'\n",
    "print(gdp_2017)"
   ]
  },
  {
   "cell_type": "markdown",
   "metadata": {},
   "source": [
    "Veriyle ilgili özet bilgiler almak ve serinin içeriğine bakmak için `describe` ve `head` fonksiyonlarını kullanabiliriz. `head` fonksiyonuna sağlayacağınız bir tamsayı, kaç satırlık veriye ulaşacağınızı belirleyecektir (varsayılan değer 5)."
   ]
  },
  {
   "cell_type": "code",
   "execution_count": 9,
   "metadata": {},
   "outputs": [
    {
     "name": "stdout",
     "output_type": "stream",
     "text": [
      "Verinin özeti:\n",
      "count       10.000000\n",
      "mean      5305.737000\n",
      "std       5801.849771\n",
      "min       1640.390000\n",
      "25%       2170.442500\n",
      "50%       2569.930000\n",
      "75%       4576.335000\n",
      "max      19362.130000\n",
      "Name: GSYİH, dtype: float64\n",
      "Serinin ilk beş satırı:\n",
      "Ülkeler\n",
      "ABD        19362.13\n",
      "Çin        11937.56\n",
      "Japonya     4884.49\n",
      "Almanya     3651.87\n",
      "Fransa      2574.81\n",
      "Name: GSYİH, dtype: float64\n"
     ]
    }
   ],
   "source": [
    "print('Verinin özeti:')\n",
    "print(gdp_2017.describe())\n",
    "print('Serinin ilk beş satırı:')\n",
    "print(gdp_2017.head())"
   ]
  },
  {
   "cell_type": "markdown",
   "metadata": {},
   "source": [
    "Erişim için indeksin değerini ya da sırasını verebiliriz. Örnek olarak Çin'in ve 5. sıradaki (indeksi 4 olan) ülkenin GSYİH değerlerine bakalım. Sıra numarasıyla eriştiğimizde indeks değerini ayrıca kontrol etmemiz gerekebilir. Seriyi sözlük kullanarak oluşturduğumuzda girdilerin sırasının değiştiğini hatırlayalım."
   ]
  },
  {
   "cell_type": "code",
   "execution_count": 10,
   "metadata": {},
   "outputs": [
    {
     "name": "stdout",
     "output_type": "stream",
     "text": [
      "gdp_2017['Çin']: 11937.56\n",
      "gdp_2017[4]: 2574.81\n"
     ]
    }
   ],
   "source": [
    "print('gdp_2017[\\'Çin\\']: {}'.format(gdp_2017['Çin']))\n",
    "print('gdp_2017[4]: {}'.format(gdp_2017[4]))"
   ]
  },
  {
   "cell_type": "markdown",
   "metadata": {},
   "source": [
    "[Sıralı nesnelerdeki dilimleme](http://www.veridefteri.com/2018/01/26/python-programlamaya-giris-sirali-nesnelerle-islemler/) işlemleri `Pandas` serilerinde de kullanılabilir. Dilimleme için iki seçenek var: indeksin sırası ve kendisi. `iloc` indeksin sırasıyla, `loc` indeksin kendisiyle işlem yapmaya olanak verir. `loc` metotunda ilk eleman da son eleman da dilimlemeye dahil edilir. İlk 3 elemana (`iloc`) ve Japonya ile İtalya arasındaki elemanlara (`loc`) erişelim."
   ]
  },
  {
   "cell_type": "code",
   "execution_count": 11,
   "metadata": {},
   "outputs": [
    {
     "name": "stdout",
     "output_type": "stream",
     "text": [
      "gdp_2017.iloc[:3]:\n",
      "Ülkeler\n",
      "ABD        19362.13\n",
      "Çin        11937.56\n",
      "Japonya     4884.49\n",
      "Name: GSYİH, dtype: float64\n",
      "gdp_2017.loc['Japonya':'İtalya']:\n",
      "Ülkeler\n",
      "Japonya             4884.49\n",
      "Almanya             3651.87\n",
      "Fransa              2574.81\n",
      "Birleşik Krallık    2565.05\n",
      "Hindistan           2439.01\n",
      "Brezilya            2080.92\n",
      "İtalya              1921.14\n",
      "Name: GSYİH, dtype: float64\n"
     ]
    }
   ],
   "source": [
    "print('gdp_2017.iloc[:3]:\\n{}'.format(gdp_2017.iloc[:3]))\n",
    "print('gdp_2017.loc[\\'Japonya\\':\\'İtalya\\']:\\n{}'.format(gdp_2017.loc['Japonya':'İtalya']))"
   ]
  },
  {
   "cell_type": "markdown",
   "metadata": {},
   "source": [
    "`gdp_2016` tablosunda indeksi ABD olan iki girdi var. Şimdi bunlardan birini silelim. ABD'nin GSYİH değerini 18624.450'ye eşitleyerek değerleri `drop_duplicate` fonksiyonuyla tekilleştirelim. "
   ]
  },
  {
   "cell_type": "code",
   "execution_count": 12,
   "metadata": {},
   "outputs": [
    {
     "name": "stdout",
     "output_type": "stream",
     "text": [
      "Tekilleştirme öncesi\n",
      "ABD                 18624.450\n",
      "Çin                 11232.110\n",
      "Japonya              4936.540\n",
      "Almanya              3479.230\n",
      "Fransa               2466.470\n",
      "Birleşik Krallık     2629.190\n",
      "Hindistan            2263.790\n",
      "Brezilya             1798.620\n",
      "İtalya               1850.740\n",
      "Kanada               1529.760\n",
      "Kore                 1411.040\n",
      "Rusya                1365.865\n",
      "Avustralya           1229.938\n",
      "İspanya              1193.556\n",
      "Meksika              1046.925\n",
      "ABD                 18624.450\n",
      "dtype: float64\n",
      "Tekilleştirme sonrası\n",
      "ABD                 18624.450\n",
      "Çin                 11232.110\n",
      "Japonya              4936.540\n",
      "Almanya              3479.230\n",
      "Fransa               2466.470\n",
      "Birleşik Krallık     2629.190\n",
      "Hindistan            2263.790\n",
      "Brezilya             1798.620\n",
      "İtalya               1850.740\n",
      "Kanada               1529.760\n",
      "Kore                 1411.040\n",
      "Rusya                1365.865\n",
      "Avustralya           1229.938\n",
      "İspanya              1193.556\n",
      "Meksika              1046.925\n",
      "dtype: float64\n"
     ]
    }
   ],
   "source": [
    "# Aşağıdaki satır indeksi ABD olan bütün girdileri değiştirir.\n",
    "gdp_2016['ABD'] = 18624.450\n",
    "print('Tekilleştirme öncesi')\n",
    "print(gdp_2016)\n",
    "# Aşağıdaki satır aynı olan değerleri tekilleştirir. \n",
    "# inplace = True sayesinde işlemi serinin kendisi üzerinde yapıyoruz.\n",
    "gdp_2016.drop_duplicates(inplace = True)\n",
    "print('Tekilleştirme sonrası')\n",
    "print(gdp_2016)"
   ]
  },
  {
   "cell_type": "markdown",
   "metadata": {},
   "source": [
    "Tek bir ülkeyi silmek için `drop` fonksiyonuna indeks değerini vermemiz yeterli."
   ]
  },
  {
   "cell_type": "code",
   "execution_count": 13,
   "metadata": {},
   "outputs": [
    {
     "name": "stdout",
     "output_type": "stream",
     "text": [
      "ABD                 18624.450\n",
      "Çin                 11232.110\n",
      "Japonya              4936.540\n",
      "Almanya              3479.230\n",
      "Fransa               2466.470\n",
      "Birleşik Krallık     2629.190\n",
      "Hindistan            2263.790\n",
      "Brezilya             1798.620\n",
      "İtalya               1850.740\n",
      "Kore                 1411.040\n",
      "Rusya                1365.865\n",
      "Avustralya           1229.938\n",
      "İspanya              1193.556\n",
      "Meksika              1046.925\n",
      "dtype: float64\n"
     ]
    }
   ],
   "source": [
    "gdp_2016.drop('Kanada', inplace = True)\n",
    "print(gdp_2016)"
   ]
  },
  {
   "cell_type": "markdown",
   "metadata": {},
   "source": [
    "`drop` fonksiyonuyla birden fazla değer de silebiliriz. Örnek olarak Kore ile İspanya arasındaki bütün değerleri silelim. `drop` fonksiyonu indeks değerleriyle işlem yaptığı için, Kore ile İspanya arasındaki indeks değerlerini kullanacak."
   ]
  },
  {
   "cell_type": "code",
   "execution_count": 14,
   "metadata": {},
   "outputs": [
    {
     "name": "stdout",
     "output_type": "stream",
     "text": [
      "ABD                 18624.450\n",
      "Çin                 11232.110\n",
      "Japonya              4936.540\n",
      "Almanya              3479.230\n",
      "Fransa               2466.470\n",
      "Birleşik Krallık     2629.190\n",
      "Hindistan            2263.790\n",
      "Brezilya             1798.620\n",
      "İtalya               1850.740\n",
      "Meksika              1046.925\n",
      "dtype: float64\n"
     ]
    }
   ],
   "source": [
    "gdp_2016.drop(gdp_2016.loc['Kore' : 'İspanya'].index, inplace = True)\n",
    "print(gdp_2016)"
   ]
  },
  {
   "cell_type": "markdown",
   "metadata": {},
   "source": [
    "# Grafikler\n",
    "\n",
    "`Pandas`, `matplotlib` paketini kullanarak grafik çizdirmeye de izin veriyor. Bu amaçla `plot` fonksiyonunu kullanabiliriz. Grafiğin tarzını belirtmek için de `kind` argümanını kullanabiliriz. Kind argümanı histogram (`hist`), pasta grafiği (`pie`) ya da çizgi grafiği (`line`) gibi temel grafik çeşitlerini destekliyor. İstanbul'un yıl içindeki sıcaklığını (`line`) ve 2017 yılı için GSYİH dağılımını (`pie`) görselleştirelim."
   ]
  },
  {
   "cell_type": "code",
   "execution_count": 15,
   "metadata": {},
   "outputs": [
    {
     "data": {
      "image/png": "[encoded data removed]",
      "text/plain": [
       "<Figure size 720x360 with 1 Axes>"
      ]
     },
     "metadata": {
      "needs_background": "light"
     },
     "output_type": "display_data"
    },
    {
     "data": {
      "image/png": "[encoded data removed]",
      "text/plain": [
       "<Figure size 576x576 with 1 Axes>"
      ]
     },
     "metadata": {},
     "output_type": "display_data"
    }
   ],
   "source": [
    "\"\"\"\n",
    "# Sıcaklık verisini aşağıdaki kodu kullanarak elde ettim. Daha sonra ay isimlerini Türkçeye çevirdim\n",
    "# Pandas altındaki okuma ve yazma fonksiyonlarına ileriki yazılarda değineceğiz.\n",
    "\n",
    "temp = pd.read_html('http://www.yr.no/place/Turkey/Istanbul/Istanbul/statistics.html', header = 1, index_col=0) \n",
    "temp_ist = pd.Series(temp[1]['Normal'], index= temp[1].index.values)\n",
    "temp_ist = temp_ist.astype(str).str[:-2].astype(np.float)\n",
    "\"\"\"\n",
    "\n",
    "temp_ist = pd.Series([5.6, 5.9, 7.5, 12., 16.5, 21.1, 23.2, 23., 19.7, 15.3, 11.6, 8.1], \n",
    "                     index = ['Ocak', 'Şubat', 'Mart', 'Nisan', 'Mayıs','Haziran', \n",
    "                              'Temmuz', 'Ağustos', 'Eylül', 'Ekim', 'Kasım', 'Aralık'])\n",
    "temp_ist.name = 'Sıcaklık'\n",
    "temp_ist.index.name = 'Aylar'\n",
    "plt.figure(figsize= (10,5))\n",
    "# Çizgi grafiği çizdirelim.\n",
    "temp_ist.plot(kind = 'line', xticks=np.arange(0,12), rot = 45)\n",
    "plt.ylabel('Derece')\n",
    "plt.show()\n",
    "\n",
    "gdp_2017.name = 'GSYİH'\n",
    "plt.figure(figsize= (8,8))\n",
    "# Pasta grafiği çizdirelim.\n",
    "gdp_2017.plot(kind = 'pie')\n",
    "plt.show()"
   ]
  },
  {
   "cell_type": "markdown",
   "metadata": {},
   "source": [
    "# İşlemler\n",
    "\n",
    "Seriler üzerinde dört işlem yapmak mümkündür. Yaptığımız işlemlerde sadece aynı indekse sahip elemanlar bu işlemlerden etkilenir. İşlem yaparken eksik olan gözlemler ya da bir seride bulunmayan gözlemler diğer serilerde olsa bile `NaN` değerini alır. Bunu engellemek ve eksik olan değerleri doldurmak istiyorsanız işlemlerle ilgili fonksiyonları (`add`, `subtract`, `divide`, `multiply`) kullanabilirsiniz. `fill_value` parametresiyle eksik değerleri değiştirmek mümkün. Ancak iki seride de bulunmayan değerler yine `NaN` değerini alacaktır."
   ]
  },
  {
   "cell_type": "code",
   "execution_count": 16,
   "metadata": {},
   "outputs": [
    {
     "name": "stdout",
     "output_type": "stream",
     "text": [
      "a    5.0\n",
      "b    5.2\n",
      "c    NaN\n",
      "d    NaN\n",
      "f    NaN\n",
      "dtype: float64\n",
      "a    4.0\n",
      "b    6.4\n",
      "c    NaN\n",
      "d    NaN\n",
      "f    NaN\n",
      "dtype: float64\n",
      "a    4.0\n",
      "b    6.4\n",
      "c    6.0\n",
      "d    7.0\n",
      "f    NaN\n",
      "dtype: float64\n"
     ]
    }
   ],
   "source": [
    "d1 = {'a' : 1, 'b' : 2,'c' : 6, 'f' : np.NaN}\n",
    "d2 = {'a' : 4, 'b' : 3.2, 'd' : 7, 'f' : np.NaN}\n",
    "\n",
    "s1 = pd.Series(d1)\n",
    "s2 = pd.Series(d2)\n",
    "print(s1 + s2)\n",
    "print(s1 * s2)\n",
    "print(s1.multiply(s2, fill_value=1))"
   ]
  },
  {
   "cell_type": "markdown",
   "metadata": {},
   "source": [
    "Aynı indekse sahip birden fazla değer varsa yapılan işlemler o indekse ait bütün değerler üzerinden yapılır. Aşağıdaki örnekte iki seride de `a` indeksine sahip iki değer var (Birinci seride 1 ve 5, ikinci seride 4 ve 5). Serileri topladığımızda `a` indeksine ait dört değer görüyoruz. "
   ]
  },
  {
   "cell_type": "code",
   "execution_count": 17,
   "metadata": {},
   "outputs": [
    {
     "name": "stdout",
     "output_type": "stream",
     "text": [
      "a     5.0\n",
      "a     6.0\n",
      "a     9.0\n",
      "a    10.0\n",
      "b     5.2\n",
      "c     NaN\n",
      "d     NaN\n",
      "dtype: float64\n"
     ]
    }
   ],
   "source": [
    "d1 = {'a' : 1, 'b' : 2,'c' : 6}\n",
    "d2 = {'a' : 4, 'b' : 3.2, 'd' : 7}\n",
    "\n",
    "d3 = {'a' : 5}\n",
    "s1 = pd.Series(d1)\n",
    "s2 = pd.Series(d2)\n",
    "s1 = s1.append(pd.Series(d3))\n",
    "s2 = s2.append(pd.Series(d3))\n",
    "\n",
    "print(s1 + s2)"
   ]
  },
  {
   "cell_type": "markdown",
   "metadata": {},
   "source": [
    "Pandas altında yapacağınız işlemler indekse bağlı olduğu için indekslerin çoklanması ve bunun sonuçları konusunda dikkat etmeniz gerekli.\n",
    "\n",
    "# Zaman Serileri\n",
    "\n",
    "Serilerin indeks değerlerini zamana çevirerek zaman serilerini elde edebiliriz. Ocak 2017'de her saat başında bir zar atıp bunun değerlerinden oluşan bir zaman serisi oluşturalım. Bunun için 1 Ocak ile 31 Ocak arasındaki saat dilimlerine ihtiyacımız olacak. Saat dilimlerini oluşturmak için `date_range` fonksiyonunu kullanabiliriz. 31 Ocak 2017 tarihini verirken saati belirtmezsek günün başlangıcını kabul ettiğinden (00:00) saati 23:59 olarak belirtelim. `freq` argümanı sıklığı (frekansı) belirtir. Sıklığı bir saat olarak belirlediğimiz için 'H' değerini kullanıyoruz."
   ]
  },
  {
   "cell_type": "code",
   "execution_count": 18,
   "metadata": {},
   "outputs": [
    {
     "name": "stdout",
     "output_type": "stream",
     "text": [
      "2017-01-01 00:00:00    2\n",
      "2017-01-01 01:00:00    1\n",
      "2017-01-01 02:00:00    5\n",
      "2017-01-01 03:00:00    4\n",
      "2017-01-01 04:00:00    2\n",
      "Freq: H, dtype: int32\n",
      "2017-01-31 19:00:00    4\n",
      "2017-01-31 20:00:00    4\n",
      "2017-01-31 21:00:00    4\n",
      "2017-01-31 22:00:00    3\n",
      "2017-01-31 23:00:00    4\n",
      "Freq: H, dtype: int32\n"
     ]
    }
   ],
   "source": [
    "#Her saat için bir indeks oluşturuyoruz.\n",
    "ts = pd.date_range('1/1/2017', end = '31/1/2017 23:59:00', freq= 'H')\n",
    "\n",
    "#Bu indekse sahip girdiler için zar atalım.\n",
    "zar = pd.Series(np.random.randint(1,7,len(ts)), index= ts )\n",
    "\n",
    "print(zar.head())\n",
    "print(zar.tail())"
   ]
  },
  {
   "cell_type": "markdown",
   "metadata": {},
   "source": [
    "Attığımız ilk 100 zarı çizgi grafiği olarak gösterelim."
   ]
  },
  {
   "cell_type": "code",
   "execution_count": 19,
   "metadata": {},
   "outputs": [
    {
     "data": {
      "image/png": "[encoded data removed]",
      "text/plain": [
       "<Figure size 720x360 with 1 Axes>"
      ]
     },
     "metadata": {
      "needs_background": "light"
     },
     "output_type": "display_data"
    }
   ],
   "source": [
    "plt.figure(figsize = ( 10,5))\n",
    "zar.head(100).plot()\n",
    "plt.show()"
   ]
  },
  {
   "cell_type": "markdown",
   "metadata": {},
   "source": [
    "Erişim için tarih vererek (indeks değerlerine uygun olacak şekilde), istediğimiz zaman aralığındaki değerleri görebiliriz."
   ]
  },
  {
   "cell_type": "code",
   "execution_count": 20,
   "metadata": {},
   "outputs": [
    {
     "name": "stdout",
     "output_type": "stream",
     "text": [
      "2017-01-01 00:00:00    2\n",
      "2017-01-01 01:00:00    1\n",
      "2017-01-01 02:00:00    5\n",
      "2017-01-01 03:00:00    4\n",
      "2017-01-01 04:00:00    2\n",
      "2017-01-01 05:00:00    4\n",
      "2017-01-01 06:00:00    1\n",
      "2017-01-01 07:00:00    5\n",
      "2017-01-01 08:00:00    5\n",
      "2017-01-01 09:00:00    2\n",
      "2017-01-01 10:00:00    1\n",
      "2017-01-01 11:00:00    2\n",
      "2017-01-01 12:00:00    1\n",
      "2017-01-01 13:00:00    4\n",
      "2017-01-01 14:00:00    5\n",
      "2017-01-01 15:00:00    2\n",
      "2017-01-01 16:00:00    1\n",
      "2017-01-01 17:00:00    2\n",
      "2017-01-01 18:00:00    5\n",
      "2017-01-01 19:00:00    5\n",
      "2017-01-01 20:00:00    2\n",
      "2017-01-01 21:00:00    5\n",
      "2017-01-01 22:00:00    3\n",
      "2017-01-01 23:00:00    5\n",
      "Freq: H, dtype: int32\n",
      "2017-01-01 13:00:00    4\n",
      "2017-01-01 14:00:00    5\n",
      "2017-01-01 15:00:00    2\n",
      "2017-01-01 16:00:00    1\n",
      "Freq: H, dtype: int32\n"
     ]
    }
   ],
   "source": [
    "#1 Ocak tarihine ait gözlemler\n",
    "print(zar['2017-01-01'])\n",
    "\n",
    "#1 Ocak 13:00:00 ile 16:30:00 arasındaki gözlemler\n",
    "print(zar['2017-01-01 13:00:00' : '2017-01-01 16:30:00'])"
   ]
  },
  {
   "cell_type": "markdown",
   "metadata": {},
   "source": [
    "Zaman serilerinin bir avantajı veriyi istediğimiz sıklıkta yeniden şekillendirebilmemiz. Örnek olarak 6 saatlik toplamlara ya da günlük ortalamaya bakabiliriz. İşlemler sonucunda elde edeceğimiz seriler için önceden bahsettiğimiz `Pandas` fonksiyonlarını kullanabiliriz."
   ]
  },
  {
   "cell_type": "code",
   "execution_count": 21,
   "metadata": {},
   "outputs": [
    {
     "name": "stdout",
     "output_type": "stream",
     "text": [
      "2017-01-01 00:00:00    18\n",
      "2017-01-01 06:00:00    16\n",
      "2017-01-01 12:00:00    15\n",
      "2017-01-01 18:00:00    25\n",
      "2017-01-02 00:00:00    26\n",
      "Freq: 6H, dtype: int32\n",
      "2017-01-01    3.083333\n",
      "2017-01-02    3.916667\n",
      "2017-01-03    3.708333\n",
      "2017-01-04    3.291667\n",
      "2017-01-05    2.750000\n",
      "Freq: D, dtype: float64\n"
     ]
    },
    {
     "data": {
      "image/png": "[encoded data removed]",
      "text/plain": [
       "<Figure size 720x360 with 1 Axes>"
      ]
     },
     "metadata": {
      "needs_background": "light"
     },
     "output_type": "display_data"
    },
    {
     "name": "stdout",
     "output_type": "stream",
     "text": [
      "En şanslı olduğumuz gün: 2017-01-08 00:00:00, zarların ortalaması: 4.208333333333333\n"
     ]
    }
   ],
   "source": [
    "# 6 saatlik toplamlara bakalım.\n",
    "zar1 = zar.resample('6H').sum()\n",
    "print(zar1.head())\n",
    "\n",
    "# Günlük ortalamaya bakalım.\n",
    "zar2 = zar.resample('D').mean()\n",
    "print(zar2.head())\n",
    "\n",
    "# Günlük ortalamaları çizgi grafiği biçiminde çizdirelim.\n",
    "plt.figure(figsize=(10,5))\n",
    "zar2.plot(kind = 'line')\n",
    "plt.show()\n",
    "print('En şanslı olduğumuz gün: {}, zarların ortalaması: {}'.format(zar2.idxmax(), zar2[zar2.idxmax()]))"
   ]
  },
  {
   "cell_type": "markdown",
   "metadata": {},
   "source": [
    "# Veri Çerçeveleri\n",
    "\n",
    "Seriler tek boyutlu bir veri yapısıyken, veri çerçevelerini her sütunu bir seriden oluşan iki boyutlu bir matris olarak düşünebiliriz. Serilerde bahsettiğimiz birçok yöntemi veri çerçevelerinde de kullanmak mümkün. Ayrıca SQL tablolarında kullanılan tablo birleştirme (`JOIN`) gibi işlemleri de `Pandas` ile yapmak mümkün.\n",
    "\n",
    "Veri çerçevelerini birden fazla serinin bir araya gelmiş hali olarak düşünebiliriz. Veri çerçeveleri de seriler gibi etiketli bir veri yapısıdır, ancak serilerden farkı iki boyutlu olmasıdır. Serilerdeki gibi etiket değerlerine indeks (`index`) denir. Veri çerçeveleri `index` alanının yanında `columns` alanını da içeriyor. `columns` sütunların isimlerini içeren bir sıralı nesne. \n",
    "\n",
    "Veri çerçevesi oluşturmak için serileri kullanmak mümkün. [Linkten](http://www.imf.org/external/pubs/ft/weo/2017/02/weodata/download.aspx) erişebileceğiniz IMF'nin gayrisafi yurt içi hasıla verisi ile ilk denemeyi yapabiliriz. 2016 ve 2017 yılları için serileri anlattığımız yazıdaki veri kümelerini oluşturalım.\n",
    "\n"
   ]
  },
  {
   "cell_type": "code",
   "execution_count": 22,
   "metadata": {},
   "outputs": [
    {
     "name": "stdout",
     "output_type": "stream",
     "text": [
      "ABD                 18624.45\n",
      "Çin                 11232.11\n",
      "Japonya              4936.54\n",
      "Almanya              3479.23\n",
      "Fransa               2466.47\n",
      "Birleşik Krallık     2629.19\n",
      "Hindistan            2263.79\n",
      "Brezilya             1798.62\n",
      "İtalya               1850.74\n",
      "Kanada               1529.76\n",
      "Kore                 1411.04\n",
      "Name: GDP_2016, dtype: float64\n",
      "ABD                 19362.13\n",
      "Çin                 11937.56\n",
      "Japonya              4884.49\n",
      "Almanya              3651.87\n",
      "Fransa               2574.81\n",
      "Birleşik Krallık     2565.05\n",
      "Hindistan            2439.01\n",
      "Brezilya             2080.92\n",
      "İtalya               1921.14\n",
      "Kanada               1640.39\n",
      "Name: GDP_2017, dtype: float64\n"
     ]
    }
   ],
   "source": [
    "# Pandas paketini yükleyelim\n",
    "import pandas as pd \n",
    "import numpy as np\n",
    "\n",
    "# GSYİH değeri en yüksek olan 10 ülkenin değerlerini kullanacağız.\n",
    "gdp_data_2017 = [19362.13, 11937.56, 4884.49, 3651.87, 2574.81, 2565.05, 2439.01, \n",
    "                 2080.92, 1921.14, 1640.39]\n",
    "# İndeks değerlerini içeren listeyi oluşturalım.\n",
    "gdp_index_2017 = ['ABD', 'Çin', 'Japonya', 'Almanya', 'Fransa', \n",
    "                  'Birleşik Krallık', 'Hindistan', 'Brezilya', 'İtalya', 'Kanada']\n",
    "\n",
    "# Seriyi oluşturalım. İndeks değerini vermediğimizde, Pandas 0'dan başlayarak veriyi indeksler.\n",
    "gdp_2017 = pd.Series(gdp_data_2017, index = gdp_index_2017, name = 'GDP_2017')\n",
    "\n",
    "# Aynı işlemi 2016 yılı için yapalım.\n",
    "d = {'ABD':18624.45,\n",
    "'Çin':11232.11,\n",
    "'Japonya':4936.54,\n",
    "'Almanya':3479.23,\n",
    "'Fransa':2466.47,\n",
    "'Birleşik Krallık':2629.19,\n",
    "'Hindistan':2263.79,\n",
    "'Brezilya':1798.62,\n",
    "'İtalya':1850.74,\n",
    "'Kanada':1529.76,\n",
    "'Kore':1411.04}\n",
    "\n",
    "gdp_2016 = pd.Series(d, name = 'GDP_2016')\n",
    "\n",
    "print(gdp_2016)\n",
    "print(gdp_2017)"
   ]
  },
  {
   "cell_type": "markdown",
   "metadata": {},
   "source": [
    "Oluşturduğumuz serileri birleştirmek için iki yol kullanacağız. Bunlardan biri `pandas` altındaki `concat` fonksiyonu, diğeri ise serilerden oluşan bir sözlük tanımlamak olacak. \n",
    "\n",
    "`concat` fonksiyonunu kullanırken sütunların isimlerini ayrıca belirtmemize gerek yok. Bunun yerine serilerin `name` alanı sütun isimleri olarak atanıyor. Bir seride olup diğerinde olmayan değerler (Kore gibi) `NaN` değeriyle gösterilir."
   ]
  },
  {
   "cell_type": "code",
   "execution_count": 23,
   "metadata": {},
   "outputs": [
    {
     "name": "stdout",
     "output_type": "stream",
     "text": [
      "                  GDP_2017  GDP_2016\n",
      "ABD               19362.13  18624.45\n",
      "Çin               11937.56  11232.11\n",
      "Japonya            4884.49   4936.54\n",
      "Almanya            3651.87   3479.23\n",
      "Fransa             2574.81   2466.47\n",
      "Birleşik Krallık   2565.05   2629.19\n",
      "Hindistan          2439.01   2263.79\n",
      "Brezilya           2080.92   1798.62\n",
      "İtalya             1921.14   1850.74\n",
      "Kanada             1640.39   1529.76\n",
      "Kore                   NaN   1411.04\n"
     ]
    }
   ],
   "source": [
    "df = pd.concat([gdp_2017, gdp_2016], axis = 1)\n",
    "print(df)"
   ]
  },
  {
   "cell_type": "markdown",
   "metadata": {},
   "source": [
    "Veri çerçevesindeki değerlerin serilerdeki yerinden bağımsız olarak indeks alanına göre eşleştirildiğini görüyoruz.\n",
    "\n",
    "Aşağıdaki örnekte, veri çerçevesini serilerden oluşan bir sözlük yardımıyla oluşturuyoruz. Sözlüğün anahtarı sütunun ismine atanır."
   ]
  },
  {
   "cell_type": "code",
   "execution_count": 24,
   "metadata": {},
   "outputs": [
    {
     "name": "stdout",
     "output_type": "stream",
     "text": [
      "                      2017      2016\n",
      "ABD               19362.13  18624.45\n",
      "Almanya            3651.87   3479.23\n",
      "Birleşik Krallık   2565.05   2629.19\n",
      "Brezilya           2080.92   1798.62\n",
      "Fransa             2574.81   2466.47\n",
      "Hindistan          2439.01   2263.79\n",
      "Japonya            4884.49   4936.54\n",
      "Kanada             1640.39   1529.76\n",
      "Kore                   NaN   1411.04\n",
      "Çin               11937.56  11232.11\n",
      "İtalya             1921.14   1850.74\n"
     ]
    }
   ],
   "source": [
    "d = {'2017' : gdp_2017,\n",
    "     '2016' : gdp_2016}\n",
    "\n",
    "df = pd.DataFrame(d)\n",
    "print(df)"
   ]
  },
  {
   "cell_type": "markdown",
   "metadata": {},
   "source": [
    "Ondalık işaretinin değiştiğini görebilirsiniz.\n",
    "\n",
    "Sözlük listeleri de veri çerçevesi oluşturmak için kullanılabilir. Aşağıdaki örnekteki listedeki her bir sözlük bir ülkenin GSYİH değerine denk geliyor. Hangi ülkeler olduğunu ise veri çerçevesini oluştururken söylüyoruz. Belirtmediğimiz değerler de `NaN` değerini alıyor."
   ]
  },
  {
   "cell_type": "code",
   "execution_count": 25,
   "metadata": {},
   "outputs": [
    {
     "name": "stdout",
     "output_type": "stream",
     "text": [
      "         GDP_2016  GDP_2017\n",
      "Almanya   3651.87   3479.23\n",
      "Fransa    2466.47       NaN\n"
     ]
    }
   ],
   "source": [
    "data = [{'GDP_2016':3651.87, 'GDP_2017': 3479.23}, {'GDP_2016' : 2466.47}]\n",
    "df = pd.DataFrame(data, index = ['Almanya', 'Fransa'])\n",
    "print(df)"
   ]
  },
  {
   "cell_type": "markdown",
   "metadata": {},
   "source": [
    "Veri çerçevelerinin matrisler gibi iki boyutlu bir veri yapısı olduğundan bahsetmiştik. Matrisler de veri çerçeveleri oluşturmak için kullanılabilir."
   ]
  },
  {
   "cell_type": "code",
   "execution_count": 26,
   "metadata": {},
   "outputs": [
    {
     "name": "stdout",
     "output_type": "stream",
     "text": [
      "          1. sütun  2. sütun\n",
      "1. satır  0.389742  0.416298\n",
      "2. satır  0.756554  0.254966\n"
     ]
    }
   ],
   "source": [
    "# 2x2'lik rassal sayılardan oluşan bir matris oluşturalım.\n",
    "data = np.random.rand(2,2)\n",
    "# Index ve columns değerlerini veri çerçevesini oluştururken tanımlayabiliriz.\n",
    "df = pd.DataFrame(data, index = ['1. satır', '2. satır'], columns=['1. sütun', '2. sütun'])\n",
    "print(df)"
   ]
  },
  {
   "cell_type": "markdown",
   "metadata": {},
   "source": [
    "Uygulamalarınızda kullanacağınız boyuttaki verileri bahsettiğimiz yöntemlerle veri çerçevesine atamanın zorluğunu farketmişsinizdir. Neyse ki `pandas` çeşitli formatlardaki dosyaları okumanızı sağlayacak fonksiyonlar içeriyor. \n",
    "\n",
    "# Dosya okuma\n",
    "`pandas` paketi csv, Excel, JSON formatlarındaki dosyaların yanında Stata, SAS programlarıyla oluşturulmuş dosyaları da okuyarak içeriğini bir veri çerçevesine atamanızı sağlayan fonksiyonlar içeriyor. Benim sıklıkla kullandığım `read_clipboard` fonksiyonu ise kopyaladığınız bir veriyi (örneğin bir Excel tablosunu) veri çerçevesine dönüştürüyor. \n",
    "\n",
    "`read_csv` fonksiyonunda sıklıkla kullanabileceğiniz parametreleri aşağıda bulabilirsiniz:\n",
    "* `sep`: kolonları ayıran karakter ya da kurallı ifade (varsayılan değer `','`),\n",
    "* `header`: sütun isimlerini içeren satırın numarası (varsayılan değer 0, eğer böyle bir satır yoksa `None`),\n",
    "* `index_col`: indeks değerlerini içeren sütunun numarası,\n",
    "* `names`: sütun isimlerini içeren sıralı nesne.\n",
    "\n",
    "`read_excel` fonksiyonunda ek olarak birden fazla sayfa içeren dokümanlarda hangi sayfaları okutacağınızı belirten `sheet_name` argümanını da kullanabilirsiniz. `sheet_name` değeri sayfanın adı, indeksi (ya da bunların bir listesi) olabilir. Ayrıca `None` değerini kullanmanız halinde bütün sayfaları okutabilirsiniz. Örnek olarak [linkten](http://archive.ics.uci.edu/ml/datasets/online+retail) indirebileceğiniz bir çevrimiçi alışveriş veri kümesini kullandım."
   ]
  },
  {
   "cell_type": "code",
   "execution_count": 27,
   "metadata": {},
   "outputs": [
    {
     "name": "stdout",
     "output_type": "stream",
     "text": [
      "  InvoiceNo StockCode                          Description  Quantity  \\\n",
      "0    536365    85123A   WHITE HANGING HEART T-LIGHT HOLDER         6   \n",
      "1    536365     71053                  WHITE METAL LANTERN         6   \n",
      "2    536365    84406B       CREAM CUPID HEARTS COAT HANGER         8   \n",
      "3    536365    84029G  KNITTED UNION FLAG HOT WATER BOTTLE         6   \n",
      "4    536365    84029E       RED WOOLLY HOTTIE WHITE HEART.         6   \n",
      "\n",
      "          InvoiceDate  UnitPrice  CustomerID         Country  \n",
      "0 2010-12-01 08:26:00       2.55     17850.0  United Kingdom  \n",
      "1 2010-12-01 08:26:00       3.39     17850.0  United Kingdom  \n",
      "2 2010-12-01 08:26:00       2.75     17850.0  United Kingdom  \n",
      "3 2010-12-01 08:26:00       3.39     17850.0  United Kingdom  \n",
      "4 2010-12-01 08:26:00       3.39     17850.0  United Kingdom  \n"
     ]
    }
   ],
   "source": [
    "# Dosya tek bir sayfa içerdiği için sheet_name'e ihtiyaç duymadık.\n",
    "# Benim bilgisayarımda Excel dosyası ile Jupyter Notebook dosyası \n",
    "# aynı klasörde olduğundan adres belirtmedim.\n",
    "import pandas as pd\n",
    "df = pd.read_excel('Online Retail.xlsx')\n",
    "print(df.head())"
   ]
  },
  {
   "cell_type": "markdown",
   "metadata": {},
   "source": [
    "Kolonların isimlerini değiştirelim."
   ]
  },
  {
   "cell_type": "code",
   "execution_count": 28,
   "metadata": {},
   "outputs": [
    {
     "name": "stdout",
     "output_type": "stream",
     "text": [
      "  FaturaNo  UrunNo                                Tanim  Adet  \\\n",
      "0   536365  85123A   WHITE HANGING HEART T-LIGHT HOLDER     6   \n",
      "1   536365   71053                  WHITE METAL LANTERN     6   \n",
      "2   536365  84406B       CREAM CUPID HEARTS COAT HANGER     8   \n",
      "3   536365  84029G  KNITTED UNION FLAG HOT WATER BOTTLE     6   \n",
      "4   536365  84029E       RED WOOLLY HOTTIE WHITE HEART.     6   \n",
      "\n",
      "         FaturaTarihi  BirimFiyat  MusteriNo            Ulke  \n",
      "0 2010-12-01 08:26:00        2.55    17850.0  United Kingdom  \n",
      "1 2010-12-01 08:26:00        3.39    17850.0  United Kingdom  \n",
      "2 2010-12-01 08:26:00        2.75    17850.0  United Kingdom  \n",
      "3 2010-12-01 08:26:00        3.39    17850.0  United Kingdom  \n",
      "4 2010-12-01 08:26:00        3.39    17850.0  United Kingdom  \n"
     ]
    }
   ],
   "source": [
    "df.columns = ['FaturaNo', 'UrunNo', 'Tanim', 'Adet', 'FaturaTarihi', 'BirimFiyat', 'MusteriNo', 'Ulke']\n",
    "print(df.head())"
   ]
  },
  {
   "cell_type": "markdown",
   "metadata": {},
   "source": [
    "# Temel Metotlar ve Erişim\n",
    "\n",
    "Veri çerçevelerinde, serilerde gördüğümüz `dim`, `shape`, `size` alanlarını ve erişim için kullandığımız `loc` ve `iloc` fonksiyonları kullanabiliriz. Serilerden farklı olarak veri çerçeveleri iki boyutlu, `size` alanı da bu nedenle sütun ve satır sayısının çarpımına eşit. "
   ]
  },
  {
   "cell_type": "code",
   "execution_count": 29,
   "metadata": {},
   "outputs": [
    {
     "name": "stdout",
     "output_type": "stream",
     "text": [
      "Boyut: 2\n",
      "Şekil: (541909, 8)\n",
      "Uzunluk: 4335272\n",
      "Sütunlar: Index(['FaturaNo', 'UrunNo', 'Tanim', 'Adet', 'FaturaTarihi', 'BirimFiyat',\n",
      "       'MusteriNo', 'Ulke'],\n",
      "      dtype='object')\n"
     ]
    }
   ],
   "source": [
    "print('Boyut: {}'.format(df.ndim))\n",
    "print('Şekil: {}'.format(df.shape))\n",
    "print('Uzunluk: {}'.format(df.size))\n",
    "print('Sütunlar: {}'.format(df.columns))"
   ]
  },
  {
   "cell_type": "markdown",
   "metadata": {},
   "source": [
    "Erişim için de yine serilerde gördüğümüz `iloc` ve `loc` metotlarını kullanabiliriz. Aynı zamanda Kaan'ın [Sıralı Nesneler İşlemler](http://www.veridefteri.com/2018/01/26/python-programlamaya-giris-sirali-nesnelerle-islemler/) yazısında bahsettiği dilimleme yöntemlerini kullanabiliriz."
   ]
  },
  {
   "cell_type": "code",
   "execution_count": 30,
   "metadata": {},
   "outputs": [
    {
     "name": "stdout",
     "output_type": "stream",
     "text": [
      "Veri çerçevesinin 0,0 indeksindeki değer: 536365\n",
      "Veri çerçevesinin ilk satırındaki değerler:\n",
      "FaturaNo                                    536365\n",
      "UrunNo                                      85123A\n",
      "Tanim           WHITE HANGING HEART T-LIGHT HOLDER\n",
      "Adet                                             6\n",
      "FaturaTarihi                   2010-12-01 08:26:00\n",
      "BirimFiyat                                    2.55\n",
      "MusteriNo                                    17850\n",
      "Ulke                                United Kingdom\n",
      "Name: 0, dtype: object\n"
     ]
    }
   ],
   "source": [
    "print('Veri çerçevesinin 0,0 indeksindeki değer: {}'.format(df.iloc[0,0]))\n",
    "print('Veri çerçevesinin ilk satırındaki değerler:\\n{}'.format(df.iloc[0,:]))"
   ]
  },
  {
   "cell_type": "markdown",
   "metadata": {},
   "source": [
    "Verideki eksik değerler özel ilgi göstermemizi gerektirecek durumlara işaret edebilir. Şimdi sütunlardaki eksik değerlerin sayısına bakalım. `isnull` veri çerçevesinin boyutunda 0 ve 1 (`True`/`False`) değerlerinden oluşan bir veri çerçevesi döndürüyor. Bu veri çerçevesi `NaN` olan hücreler için `True`, diğer hücreler için `False` değerine sahip. Sütunlar üzerinden toplarsak eksik değer içeren hücre sayısını bulabiliriz."
   ]
  },
  {
   "cell_type": "code",
   "execution_count": 31,
   "metadata": {},
   "outputs": [
    {
     "name": "stdout",
     "output_type": "stream",
     "text": [
      "Eksik hücre sayısı\n",
      "FaturaNo             0\n",
      "UrunNo               0\n",
      "Tanim             1454\n",
      "Adet                 0\n",
      "FaturaTarihi         0\n",
      "BirimFiyat           0\n",
      "MusteriNo       135080\n",
      "Ulke                 0\n",
      "dtype: int64\n"
     ]
    }
   ],
   "source": [
    "print('Eksik hücre sayısı')\n",
    "print(df.isnull().sum())"
   ]
  },
  {
   "cell_type": "markdown",
   "metadata": {},
   "source": [
    "Müşteri numarası olmayan 135080 satır var. Bu satırları veri setinden çıkaralım."
   ]
  },
  {
   "cell_type": "code",
   "execution_count": 32,
   "metadata": {},
   "outputs": [
    {
     "name": "stdout",
     "output_type": "stream",
     "text": [
      "Şekil: (406829, 8)\n",
      "Eksik hücre sayısı\n",
      "FaturaNo        0\n",
      "UrunNo          0\n",
      "Tanim           0\n",
      "Adet            0\n",
      "FaturaTarihi    0\n",
      "BirimFiyat      0\n",
      "MusteriNo       0\n",
      "Ulke            0\n",
      "dtype: int64\n"
     ]
    }
   ],
   "source": [
    "df = df[~df['MusteriNo'].isnull()]\n",
    "print('Şekil: {}'.format(df.shape))\n",
    "print('Eksik hücre sayısı')\n",
    "print(df.isnull().sum())"
   ]
  },
  {
   "cell_type": "markdown",
   "metadata": {},
   "source": [
    "Alternatif olarak eksik değerleri istediğiniz başka bir değerle değiştirmeniz de mümkün. Bu amaçla `fillna` fonksiyonunu kullanabilirsiniz. Örnek olarak eksik değerleri 0 değeriyle doldurmak için `df.fillna(0, inplace = True)` yazmanız yeterli. Buradaki `inplace` argümanı değişikliğin veri çerçevesi üzerinde yapılmasını sağlar. Bunu kullanmak istemezseniz bir atama yapmanız gerekecek (`df = df.fillna(0)`). İki seçeneği de kullanmamanız haline orijinal veri çerçevesi değişmeyecektir.\n",
    "\n",
    "Müşteri numaraları tamsayı olması gerekirken ondalıklı olarak okunduğu için tamsayıya çevirelim."
   ]
  },
  {
   "cell_type": "code",
   "execution_count": 33,
   "metadata": {},
   "outputs": [
    {
     "name": "stdout",
     "output_type": "stream",
     "text": [
      "  FaturaNo  UrunNo                                Tanim  Adet  \\\n",
      "0   536365  85123A   WHITE HANGING HEART T-LIGHT HOLDER     6   \n",
      "1   536365   71053                  WHITE METAL LANTERN     6   \n",
      "2   536365  84406B       CREAM CUPID HEARTS COAT HANGER     8   \n",
      "3   536365  84029G  KNITTED UNION FLAG HOT WATER BOTTLE     6   \n",
      "4   536365  84029E       RED WOOLLY HOTTIE WHITE HEART.     6   \n",
      "\n",
      "         FaturaTarihi  BirimFiyat  MusteriNo            Ulke  \n",
      "0 2010-12-01 08:26:00        2.55      17850  United Kingdom  \n",
      "1 2010-12-01 08:26:00        3.39      17850  United Kingdom  \n",
      "2 2010-12-01 08:26:00        2.75      17850  United Kingdom  \n",
      "3 2010-12-01 08:26:00        3.39      17850  United Kingdom  \n",
      "4 2010-12-01 08:26:00        3.39      17850  United Kingdom  \n"
     ]
    }
   ],
   "source": [
    "# Aşağıdaki satırda sütunlara ulaşmanın iki farklı yolunu görüyoruz. \n",
    "# Veri_çerçevesi['sütun_adı'] ve Veri_çerçevesi.Sütun_adı\n",
    "df['MusteriNo'] = df.MusteriNo.astype('int')\n",
    "print(df.head())"
   ]
  },
  {
   "cell_type": "markdown",
   "metadata": {},
   "source": [
    "# Veri İşleme\n",
    "Veri çerçevesinde ürünler için birim fiyat ve satın alınan adet değerleri var. Müşterilerin o ürün için toplam harcamasını içeren bir sütun ekleyelim. Yeni sütunun adı `Miktar` olsun."
   ]
  },
  {
   "cell_type": "code",
   "execution_count": 34,
   "metadata": {},
   "outputs": [
    {
     "name": "stdout",
     "output_type": "stream",
     "text": [
      "  FaturaNo  UrunNo                                Tanim  Adet  \\\n",
      "0   536365  85123A   WHITE HANGING HEART T-LIGHT HOLDER     6   \n",
      "1   536365   71053                  WHITE METAL LANTERN     6   \n",
      "2   536365  84406B       CREAM CUPID HEARTS COAT HANGER     8   \n",
      "3   536365  84029G  KNITTED UNION FLAG HOT WATER BOTTLE     6   \n",
      "4   536365  84029E       RED WOOLLY HOTTIE WHITE HEART.     6   \n",
      "\n",
      "         FaturaTarihi  BirimFiyat  MusteriNo            Ulke  Miktar  \n",
      "0 2010-12-01 08:26:00        2.55      17850  United Kingdom   15.30  \n",
      "1 2010-12-01 08:26:00        3.39      17850  United Kingdom   20.34  \n",
      "2 2010-12-01 08:26:00        2.75      17850  United Kingdom   22.00  \n",
      "3 2010-12-01 08:26:00        3.39      17850  United Kingdom   20.34  \n",
      "4 2010-12-01 08:26:00        3.39      17850  United Kingdom   20.34  \n"
     ]
    }
   ],
   "source": [
    "df['Miktar'] = df['BirimFiyat'] * df['Adet']\n",
    "print(df.head())"
   ]
  },
  {
   "cell_type": "markdown",
   "metadata": {},
   "source": [
    "`FaturaNo` ve o faturaya ait toplam miktarı içeren yeni bir veri çerçevesi oluşturalım. `groupby` fonksiyonuyla her alışverişin toplam miktarını bulabiliriz. `Groupby` fonksiyonunun kullanımını Veri Defteri'nin [ilk yazılarından birinde](http://www.veridefteri.com/2017/10/30/groupby/) anlatmıştık.         "
   ]
  },
  {
   "cell_type": "code",
   "execution_count": 35,
   "metadata": {},
   "outputs": [
    {
     "name": "stdout",
     "output_type": "stream",
     "text": [
      "  FaturaNo  ToplamMiktar  Urun_Sayisi\n",
      "0   536365        139.12            7\n",
      "1   536366         22.20            2\n",
      "2   536367        278.73           12\n",
      "3   536368         70.05            4\n",
      "4   536369         17.85            1\n"
     ]
    }
   ],
   "source": [
    "df_fis = df.groupby(['FaturaNo']).agg({'Miktar' : 'sum', 'UrunNo':'nunique'}).reset_index()\n",
    "df_fis.columns = ['FaturaNo', 'ToplamMiktar', 'Urun_Sayisi']\n",
    "print(df_fis.head())"
   ]
  },
  {
   "cell_type": "markdown",
   "metadata": {},
   "source": [
    "İlk veri çerçevesine `ToplamMiktar` sütununu eklemek için `pandas` paketinin sunduğu birleştirme işlemlerinden yararlanabiliriz. Bu amaçla `merge` fonksiyonunu kullanacağız. \n",
    "\n",
    "`merge` işlemi için iki veri çerçevesinin hangi sütunlarının nasıl birleştirileceğini belirtmek gerekiyor. `merge` fonksiyonu SQL tablolarında kullanılan birleştirme (`JOIN`) işlemlerini destekliyor. İki veri çerçevesini birleştirmek için `FaturaNo` anahtarını kullanalım (`on = 'FaturaNo'`). Farklı isimlere sahip sütunlar üzerinden birleştirme yapmak için `right_on = ...` ve `left_on = ...` şeklinde veri çerçevelerindeki sütun isimlerini fonksiyona ekleyebilirsiniz.\n",
    "\n",
    "`how` argümanı için kullanabileceğiniz değerler:\n",
    "* \"`inner`\": Sadece iki tabloda da bulunan anahtar değerlerini birleştirir. Bir tabloda olmayan değerler silinir.\n",
    "* \"`right`\": İlk tabloda bulunan değerler korunur ve ikinci tabloda eşleşen değerler tabloya eklenir. İkinci tabloda bulunmayan değerler `NaN` ile belirtilir. \n",
    "* \"`left`\": İkinci tabloda bulunan değerler korunur ve ilk tabloda eşleşen değerler tabloya eklenir. İlk tabloda bulunmayan değerler `NaN` ile belirtilir. \n",
    "* \"`outer`\": İki tablodan en az birinde bulunan değerler korunur. Bir tabloda olmayan eksik değerler `NaN` ile belirtilir."
   ]
  },
  {
   "cell_type": "code",
   "execution_count": 36,
   "metadata": {},
   "outputs": [
    {
     "name": "stdout",
     "output_type": "stream",
     "text": [
      "  FaturaNo  UrunNo                                Tanim  Adet  \\\n",
      "0   536365  85123A   WHITE HANGING HEART T-LIGHT HOLDER     6   \n",
      "1   536365   71053                  WHITE METAL LANTERN     6   \n",
      "2   536365  84406B       CREAM CUPID HEARTS COAT HANGER     8   \n",
      "3   536365  84029G  KNITTED UNION FLAG HOT WATER BOTTLE     6   \n",
      "4   536365  84029E       RED WOOLLY HOTTIE WHITE HEART.     6   \n",
      "5   536365   22752         SET 7 BABUSHKA NESTING BOXES     2   \n",
      "6   536365   21730    GLASS STAR FROSTED T-LIGHT HOLDER     6   \n",
      "7   536366   22633               HAND WARMER UNION JACK     6   \n",
      "8   536366   22632            HAND WARMER RED POLKA DOT     6   \n",
      "9   536367   84879        ASSORTED COLOUR BIRD ORNAMENT    32   \n",
      "\n",
      "         FaturaTarihi  BirimFiyat  MusteriNo            Ulke  Miktar  \\\n",
      "0 2010-12-01 08:26:00        2.55      17850  United Kingdom   15.30   \n",
      "1 2010-12-01 08:26:00        3.39      17850  United Kingdom   20.34   \n",
      "2 2010-12-01 08:26:00        2.75      17850  United Kingdom   22.00   \n",
      "3 2010-12-01 08:26:00        3.39      17850  United Kingdom   20.34   \n",
      "4 2010-12-01 08:26:00        3.39      17850  United Kingdom   20.34   \n",
      "5 2010-12-01 08:26:00        7.65      17850  United Kingdom   15.30   \n",
      "6 2010-12-01 08:26:00        4.25      17850  United Kingdom   25.50   \n",
      "7 2010-12-01 08:28:00        1.85      17850  United Kingdom   11.10   \n",
      "8 2010-12-01 08:28:00        1.85      17850  United Kingdom   11.10   \n",
      "9 2010-12-01 08:34:00        1.69      13047  United Kingdom   54.08   \n",
      "\n",
      "   ToplamMiktar  Urun_Sayisi  \n",
      "0        139.12            7  \n",
      "1        139.12            7  \n",
      "2        139.12            7  \n",
      "3        139.12            7  \n",
      "4        139.12            7  \n",
      "5        139.12            7  \n",
      "6        139.12            7  \n",
      "7         22.20            2  \n",
      "8         22.20            2  \n",
      "9        278.73           12  \n",
      "Şekil: (406829, 11)\n",
      "  FaturaNo  UrunNo                                Tanim  Adet  \\\n",
      "0   536365  85123A   WHITE HANGING HEART T-LIGHT HOLDER     6   \n",
      "1   536365   71053                  WHITE METAL LANTERN     6   \n",
      "2   536365  84406B       CREAM CUPID HEARTS COAT HANGER     8   \n",
      "3   536365  84029G  KNITTED UNION FLAG HOT WATER BOTTLE     6   \n",
      "4   536365  84029E       RED WOOLLY HOTTIE WHITE HEART.     6   \n",
      "5   536365   22752         SET 7 BABUSHKA NESTING BOXES     2   \n",
      "6   536365   21730    GLASS STAR FROSTED T-LIGHT HOLDER     6   \n",
      "\n",
      "         FaturaTarihi  BirimFiyat  MusteriNo            Ulke  Miktar  \\\n",
      "0 2010-12-01 08:26:00        2.55      17850  United Kingdom   15.30   \n",
      "1 2010-12-01 08:26:00        3.39      17850  United Kingdom   20.34   \n",
      "2 2010-12-01 08:26:00        2.75      17850  United Kingdom   22.00   \n",
      "3 2010-12-01 08:26:00        3.39      17850  United Kingdom   20.34   \n",
      "4 2010-12-01 08:26:00        3.39      17850  United Kingdom   20.34   \n",
      "5 2010-12-01 08:26:00        7.65      17850  United Kingdom   15.30   \n",
      "6 2010-12-01 08:26:00        4.25      17850  United Kingdom   25.50   \n",
      "\n",
      "   ToplamMiktar  Urun_Sayisi  \n",
      "0        139.12            7  \n",
      "1        139.12            7  \n",
      "2        139.12            7  \n",
      "3        139.12            7  \n",
      "4        139.12            7  \n",
      "5        139.12            7  \n",
      "6        139.12            7  \n"
     ]
    }
   ],
   "source": [
    "df_yeni = pd.merge(df,df_fis, how= 'inner', on = 'FaturaNo')\n",
    "print(df_yeni.head(10))\n",
    "print('Şekil: {}'.format(df_yeni.shape))\n",
    "print(df_yeni[df_yeni['FaturaNo'] == 536365])"
   ]
  },
  {
   "cell_type": "markdown",
   "metadata": {},
   "source": [
    "Tekrar eden verileri tekilleştirmek için `drop_duplicates` fonksiyonunu kullanabiliriz. Aşağıda müşteri numaralarını tekilleştirerek kaç müşteri olduğunu buluyoruz. Ben sütunları kopyalamayı tercih ettim. Bunu yapmamanız durumunda Python referans modelinden kaynaklı bir uyarı mesajı alacaksınız. Bu konu hakkında Kaan'ın [yazısını](http://www.veridefteri.com/2018/03/19/python-programlamaya-giris-18-python-referans-modeli-sig-ve-derin-kopyalama/) okumanızı tavsiye ederim."
   ]
  },
  {
   "cell_type": "code",
   "execution_count": 37,
   "metadata": {},
   "outputs": [
    {
     "name": "stdout",
     "output_type": "stream",
     "text": [
      "    MusteriNo\n",
      "0       17850\n",
      "9       13047\n",
      "26      12583\n",
      "46      13748\n",
      "65      15100\n",
      "Şekil: (4372, 1)\n",
      "Müşteri sayısı: 4372\n"
     ]
    }
   ],
   "source": [
    "# Sadece ürün bilgilerini içeren sütunları alıyoruz.\n",
    "# Burada copy işlemini kullanmazsak bir uyarı mesajı alıyoruz.\n",
    "df_musteri = df[['MusteriNo']].copy()\n",
    "df_musteri.drop_duplicates(inplace = True)\n",
    "print(df_musteri.head())\n",
    "print('Şekil: {}'.format(df_musteri.shape))\n",
    "print('Müşteri sayısı: {}'.format(df_musteri.shape[0]))"
   ]
  },
  {
   "cell_type": "markdown",
   "metadata": {},
   "source": [
    "Veri çerçeveleri `scikit-learn`, `statsmodel` gibi bir çok paket tarafından destekleniyor. `Tensorflow` ve `lightgbm` gibi popüler paketlerle de veri çerçevelerini kullanabilirsiniz. Yapay öğrenmede sıklıkla kullanılan bu paketlerden [scikit-learn](http://www.veridefteri.com/2017/11/23/scikit-learn-ile-veri-analitigine-giris/) paketiyle ilgili bir giriş yazısı yazmıştık. İleride, diğer paketlerle ilgili yazılar yazmayı planlıyoruz. "
   ]
  },
  {
   "cell_type": "markdown",
   "metadata": {},
   "source": [
    "# Groupby\n",
    "\n",
    "\n",
    "Pandas paketi veri analizi ve işlemesi için hazırlanmış bir Python paketidir. Bu paket çeşitli formatlardaki dosyaları (Excel, Csv, Txt gibi) okumayı, bu formatlarda dosyalar oluşturmayı kolaylaştırır. Aynı zamanda pandas paketi ile oluşturulan veri çerçeveleri (dataframe) sayesinde farklı formatlardaki (sayı, metin, tarih) veriyi birlikte tutmak, bu verileri işlemek ve basit analizler yapmak mümkündür.\n",
    "\n",
    "Pandas paketinin altındaki bir yöntem olan `groupby()` ham haldeki veriden (örnek olarak alışveriş verisi) çeşitli istatistikler çıkarmak için oldukça yararlı bir araç. Bu Veri Defteri'nde UCI Machine Learning Repository'de bulunan online satış verisini kullanacağız. Veriye [linke](http://archive.ics.uci.edu/ml/datasets/online+retail) tıklayarak erişebilirsiniz. İlk olarak veriyi okutarak ve boyutlarına bakarak başlayalım."
   ]
  },
  {
   "cell_type": "code",
   "execution_count": 38,
   "metadata": {},
   "outputs": [
    {
     "name": "stdout",
     "output_type": "stream",
     "text": [
      "Veri çerçevesinin boyutu: (541909, 8)\n"
     ]
    }
   ],
   "source": [
    "# İlk adımda pandas ve numpy paketlerini yüklüyoruz\n",
    "import pandas as pd\n",
    "import numpy as np\n",
    "from IPython.display import display, HTML\n",
    "# Input dosyasının olduğu klasörün yolu\n",
    "# Pandas'ın altındaki read_excel fonksiyonuyla Excel dosyasını okutabiliriz.\n",
    "# Pandas aynı zamanda csv, table, sql ve kopyaladığınız tablo halindeki verileri de okuyabilir (clipboard).\n",
    "# read_csv, read_table, read_json, read_sql, read_clipboard fonksiyonlarını inceleyebilirsiniz.\n",
    "# Şimdi veriyi okutarak verinin boyutlarını inceleyelim.\n",
    "df = pd.read_excel('Online Retail.xlsx')\n",
    "\n",
    "print(\"Veri çerçevesinin boyutu: \" + str(np.shape(df)))"
   ]
  },
  {
   "cell_type": "markdown",
   "metadata": {},
   "source": [
    "Veride 8 kolon var. Kolonlar hakkındaki ilk bilgiyi `head()` fonksiyonuyla görebiliriz."
   ]
  },
  {
   "cell_type": "code",
   "execution_count": 39,
   "metadata": {},
   "outputs": [
    {
     "data": {
      "text/html": [
       "<table border=\"1\" class=\"dataframe\">\n",
       "  <thead>\n",
       "    <tr style=\"text-align: right;\">\n",
       "      <th></th>\n",
       "      <th>InvoiceNo</th>\n",
       "      <th>StockCode</th>\n",
       "      <th>Description</th>\n",
       "      <th>Quantity</th>\n",
       "      <th>InvoiceDate</th>\n",
       "      <th>UnitPrice</th>\n",
       "      <th>CustomerID</th>\n",
       "      <th>Country</th>\n",
       "    </tr>\n",
       "  </thead>\n",
       "  <tbody>\n",
       "    <tr>\n",
       "      <th>0</th>\n",
       "      <td>536365</td>\n",
       "      <td>85123A</td>\n",
       "      <td>WHITE HANGING HEART T-LIGHT HOLDER</td>\n",
       "      <td>6</td>\n",
       "      <td>2010-12-01 08:26:00</td>\n",
       "      <td>2.55</td>\n",
       "      <td>17850.0</td>\n",
       "      <td>United Kingdom</td>\n",
       "    </tr>\n",
       "    <tr>\n",
       "      <th>1</th>\n",
       "      <td>536365</td>\n",
       "      <td>71053</td>\n",
       "      <td>WHITE METAL LANTERN</td>\n",
       "      <td>6</td>\n",
       "      <td>2010-12-01 08:26:00</td>\n",
       "      <td>3.39</td>\n",
       "      <td>17850.0</td>\n",
       "      <td>United Kingdom</td>\n",
       "    </tr>\n",
       "    <tr>\n",
       "      <th>2</th>\n",
       "      <td>536365</td>\n",
       "      <td>84406B</td>\n",
       "      <td>CREAM CUPID HEARTS COAT HANGER</td>\n",
       "      <td>8</td>\n",
       "      <td>2010-12-01 08:26:00</td>\n",
       "      <td>2.75</td>\n",
       "      <td>17850.0</td>\n",
       "      <td>United Kingdom</td>\n",
       "    </tr>\n",
       "    <tr>\n",
       "      <th>3</th>\n",
       "      <td>536365</td>\n",
       "      <td>84029G</td>\n",
       "      <td>KNITTED UNION FLAG HOT WATER BOTTLE</td>\n",
       "      <td>6</td>\n",
       "      <td>2010-12-01 08:26:00</td>\n",
       "      <td>3.39</td>\n",
       "      <td>17850.0</td>\n",
       "      <td>United Kingdom</td>\n",
       "    </tr>\n",
       "    <tr>\n",
       "      <th>4</th>\n",
       "      <td>536365</td>\n",
       "      <td>84029E</td>\n",
       "      <td>RED WOOLLY HOTTIE WHITE HEART.</td>\n",
       "      <td>6</td>\n",
       "      <td>2010-12-01 08:26:00</td>\n",
       "      <td>3.39</td>\n",
       "      <td>17850.0</td>\n",
       "      <td>United Kingdom</td>\n",
       "    </tr>\n",
       "  </tbody>\n",
       "</table>"
      ],
      "text/plain": [
       "<IPython.core.display.HTML object>"
      ]
     },
     "execution_count": 39,
     "metadata": {},
     "output_type": "execute_result"
    }
   ],
   "source": [
    "HTML(df.head().to_html())"
   ]
  },
  {
   "cell_type": "markdown",
   "metadata": {},
   "source": [
    "Verideki kolonların ne anlama geldiğine bakalım.\n",
    "\n",
    "|Kolon | Anlam|\n",
    "|:------------- |:-------------|\n",
    "|InvoiceNo| Fatura numarası, her alışverişin bir numarası var|\n",
    "|StockCode| Ürünün numarası |\n",
    "|Description|Ürünün açıklaması|\n",
    "|Quantity|Üründen kaç adet alındığı|\n",
    "|InvoiceDate| Alışverişin tarihi ve saati|\n",
    "|UnitPrice| Ürünün birim fiyatı|\n",
    "|CustomerID| Müşteri numarası|\n",
    "|Country| Ülke|\n",
    "\n",
    "\n",
    "Öncelikle ülke bazında alışveriş istatistikleri çıkaralım. Bu amaçla ilk yapacağımız şey veri setini ülke bazında gruplamak."
   ]
  },
  {
   "cell_type": "code",
   "execution_count": 40,
   "metadata": {},
   "outputs": [],
   "source": [
    "# Veriyi ülke (Country) bazında grupluyoruz\n",
    "df_country = df.groupby('Country')"
   ]
  },
  {
   "cell_type": "markdown",
   "metadata": {},
   "source": [
    "Veride hangi ülkeler olduğunu görmek için `group.keys()`, kaç ülke olduğunu görmek içinse `ngroups` metotlarını kullanabiliriz."
   ]
  },
  {
   "cell_type": "code",
   "execution_count": 41,
   "metadata": {},
   "outputs": [
    {
     "name": "stdout",
     "output_type": "stream",
     "text": [
      "Ülkeler\n",
      "dict_keys(['Australia', 'Austria', 'Bahrain', 'Belgium', 'Brazil', 'Canada', 'Channel Islands', 'Cyprus', 'Czech Republic', 'Denmark', 'EIRE', 'European Community', 'Finland', 'France', 'Germany', 'Greece', 'Hong Kong', 'Iceland', 'Israel', 'Italy', 'Japan', 'Lebanon', 'Lithuania', 'Malta', 'Netherlands', 'Norway', 'Poland', 'Portugal', 'RSA', 'Saudi Arabia', 'Singapore', 'Spain', 'Sweden', 'Switzerland', 'USA', 'United Arab Emirates', 'United Kingdom', 'Unspecified'])\n",
      "Ülke sayısı: 38\n"
     ]
    }
   ],
   "source": [
    "print(\"Ülkeler\")\n",
    "print(df_country.groups.keys())\n",
    "print(\"Ülke sayısı: \" + str(df_country.ngroups))"
   ]
  },
  {
   "cell_type": "markdown",
   "metadata": {},
   "source": [
    "Veri setinde 38 ülkeden yapılan alışverişler var. Her bir gruba (ülkede yapılan alışverişlere) erişmek için aşağıdaki gibi bir loop kullanabiliriz. `df_country` bir *GroupBy* objesi ve veriyi ülke ve satış verisini içeren bir dictionarye benzer bir şekilde tutuyor."
   ]
  },
  {
   "cell_type": "code",
   "execution_count": 42,
   "metadata": {},
   "outputs": [],
   "source": [
    "for country, sales in df_country:\n",
    "    if country == 'Belgium':\n",
    "        HTML(sales.head().to_html())"
   ]
  },
  {
   "cell_type": "markdown",
   "metadata": {},
   "source": [
    "İstediğimiz gruba ulaşmanın bir diğer yolu da `get_group()` fonksiyonu. 'Austria' için olan satış verilerine ulaşmayı deneyelim."
   ]
  },
  {
   "cell_type": "code",
   "execution_count": 43,
   "metadata": {},
   "outputs": [
    {
     "data": {
      "text/html": [
       "<table border=\"1\" class=\"dataframe\">\n",
       "  <thead>\n",
       "    <tr style=\"text-align: right;\">\n",
       "      <th></th>\n",
       "      <th>InvoiceNo</th>\n",
       "      <th>StockCode</th>\n",
       "      <th>Description</th>\n",
       "      <th>Quantity</th>\n",
       "      <th>InvoiceDate</th>\n",
       "      <th>UnitPrice</th>\n",
       "      <th>CustomerID</th>\n",
       "      <th>Country</th>\n",
       "    </tr>\n",
       "  </thead>\n",
       "  <tbody>\n",
       "    <tr>\n",
       "      <th>31464</th>\n",
       "      <td>C538971</td>\n",
       "      <td>22153</td>\n",
       "      <td>ANGEL DECORATION STARS ON DRESS</td>\n",
       "      <td>-48</td>\n",
       "      <td>2010-12-15 11:39:00</td>\n",
       "      <td>0.42</td>\n",
       "      <td>12865.0</td>\n",
       "      <td>Austria</td>\n",
       "    </tr>\n",
       "    <tr>\n",
       "      <th>34293</th>\n",
       "      <td>539330</td>\n",
       "      <td>37449</td>\n",
       "      <td>CERAMIC CAKE STAND + HANGING CAKES</td>\n",
       "      <td>8</td>\n",
       "      <td>2010-12-17 09:38:00</td>\n",
       "      <td>8.50</td>\n",
       "      <td>12370.0</td>\n",
       "      <td>Austria</td>\n",
       "    </tr>\n",
       "    <tr>\n",
       "      <th>34294</th>\n",
       "      <td>539330</td>\n",
       "      <td>37446</td>\n",
       "      <td>MINI CAKE STAND WITH HANGING CAKES</td>\n",
       "      <td>8</td>\n",
       "      <td>2010-12-17 09:38:00</td>\n",
       "      <td>1.45</td>\n",
       "      <td>12370.0</td>\n",
       "      <td>Austria</td>\n",
       "    </tr>\n",
       "    <tr>\n",
       "      <th>34295</th>\n",
       "      <td>539330</td>\n",
       "      <td>22962</td>\n",
       "      <td>JAM JAR WITH PINK LID</td>\n",
       "      <td>12</td>\n",
       "      <td>2010-12-17 09:38:00</td>\n",
       "      <td>0.85</td>\n",
       "      <td>12370.0</td>\n",
       "      <td>Austria</td>\n",
       "    </tr>\n",
       "    <tr>\n",
       "      <th>34296</th>\n",
       "      <td>539330</td>\n",
       "      <td>21428</td>\n",
       "      <td>SET3 BOOK BOX GREEN GINGHAM FLOWER</td>\n",
       "      <td>4</td>\n",
       "      <td>2010-12-17 09:38:00</td>\n",
       "      <td>4.25</td>\n",
       "      <td>12370.0</td>\n",
       "      <td>Austria</td>\n",
       "    </tr>\n",
       "  </tbody>\n",
       "</table>"
      ],
      "text/plain": [
       "<IPython.core.display.HTML object>"
      ]
     },
     "execution_count": 43,
     "metadata": {},
     "output_type": "execute_result"
    }
   ],
   "source": [
    "HTML(df_country.get_group('Austria').head().to_html())"
   ]
  },
  {
   "cell_type": "markdown",
   "metadata": {},
   "source": [
    "Şimdi her ülke için en çok satılan ürünü bulalım. Bunun için yapmamız gerekenler ülke (Country) ve ürün (StockCode) bazında satış miktarlarını (Quantity) toplamak olacak. Ondan sonra da her ülke için en çok satılan ürünü bulacağız. `groupby` fonksiyonuna vereceğimiz `by` argümanı hangi kolonlara göre (Country, StockCode) gruplayacağımız bilgisini veriyor. Daha sonra işlem yapacağımız kolonu (Quantity) ve yapacağımız işlemi (`sum()`) belirtiyoruz."
   ]
  },
  {
   "cell_type": "code",
   "execution_count": 44,
   "metadata": {},
   "outputs": [
    {
     "name": "stdout",
     "output_type": "stream",
     "text": [
      "Country    StockCode\n",
      "Australia  15036        600\n",
      "           20665          6\n",
      "           20675        216\n",
      "           20676        216\n",
      "           20677        216\n",
      "Name: Quantity, dtype: int64\n"
     ]
    }
   ],
   "source": [
    "df_country_product = df.groupby(by = ['Country', 'StockCode'])['Quantity'].sum()\n",
    "print(df_country_product.head())"
   ]
  },
  {
   "cell_type": "markdown",
   "metadata": {},
   "source": [
    "Dataframe yapısını korumak için reset_index() fonksiyonunu kullanabiliriz."
   ]
  },
  {
   "cell_type": "code",
   "execution_count": 45,
   "metadata": {},
   "outputs": [
    {
     "data": {
      "text/html": [
       "<table border=\"1\" class=\"dataframe\">\n",
       "  <thead>\n",
       "    <tr style=\"text-align: right;\">\n",
       "      <th></th>\n",
       "      <th>Country</th>\n",
       "      <th>StockCode</th>\n",
       "      <th>Quantity</th>\n",
       "    </tr>\n",
       "  </thead>\n",
       "  <tbody>\n",
       "    <tr>\n",
       "      <th>0</th>\n",
       "      <td>Australia</td>\n",
       "      <td>15036</td>\n",
       "      <td>600</td>\n",
       "    </tr>\n",
       "    <tr>\n",
       "      <th>1</th>\n",
       "      <td>Australia</td>\n",
       "      <td>20665</td>\n",
       "      <td>6</td>\n",
       "    </tr>\n",
       "    <tr>\n",
       "      <th>2</th>\n",
       "      <td>Australia</td>\n",
       "      <td>20675</td>\n",
       "      <td>216</td>\n",
       "    </tr>\n",
       "    <tr>\n",
       "      <th>3</th>\n",
       "      <td>Australia</td>\n",
       "      <td>20676</td>\n",
       "      <td>216</td>\n",
       "    </tr>\n",
       "    <tr>\n",
       "      <th>4</th>\n",
       "      <td>Australia</td>\n",
       "      <td>20677</td>\n",
       "      <td>216</td>\n",
       "    </tr>\n",
       "  </tbody>\n",
       "</table>"
      ],
      "text/plain": [
       "<IPython.core.display.HTML object>"
      ]
     },
     "execution_count": 45,
     "metadata": {},
     "output_type": "execute_result"
    }
   ],
   "source": [
    "df_country_product = df_country_product.reset_index()\n",
    "HTML(df_country_product.head().to_html())"
   ]
  },
  {
   "cell_type": "markdown",
   "metadata": {},
   "source": [
    "Ülke bazında en yüksek miktara sahip ürünleri bulmak için `groupby`ı maksimum değeri bulacak şekilde kullanabiliriz. Ancak bu ürün bilgisini vermeyeceği için `transform` yöntemini kullanıyoruz. Bu sayede her ülke için maksimum satış değerine sahip ürünün satış adedine erişiyoruz. Aşağıdaki satırda değeri maksimum satışa sahip ürünlere sahip indexleri belirliyoruz. Bu, aynı satış miktarına sahip birden fazla ürün varsa onları da bulmamızı sağlar."
   ]
  },
  {
   "cell_type": "code",
   "execution_count": 46,
   "metadata": {},
   "outputs": [
    {
     "data": {
      "text/html": [
       "<table border=\"1\" class=\"dataframe\">\n",
       "  <thead>\n",
       "    <tr style=\"text-align: right;\">\n",
       "      <th></th>\n",
       "      <th>Country</th>\n",
       "      <th>StockCode</th>\n",
       "      <th>Quantity</th>\n",
       "    </tr>\n",
       "  </thead>\n",
       "  <tbody>\n",
       "    <tr>\n",
       "      <th>221</th>\n",
       "      <td>Australia</td>\n",
       "      <td>22492</td>\n",
       "      <td>2916</td>\n",
       "    </tr>\n",
       "    <tr>\n",
       "      <th>671</th>\n",
       "      <td>Austria</td>\n",
       "      <td>21918</td>\n",
       "      <td>288</td>\n",
       "    </tr>\n",
       "    <tr>\n",
       "      <th>914</th>\n",
       "      <td>Bahrain</td>\n",
       "      <td>23076</td>\n",
       "      <td>96</td>\n",
       "    </tr>\n",
       "    <tr>\n",
       "      <th>1005</th>\n",
       "      <td>Belgium</td>\n",
       "      <td>21212</td>\n",
       "      <td>480</td>\n",
       "    </tr>\n",
       "    <tr>\n",
       "      <th>1705</th>\n",
       "      <td>Brazil</td>\n",
       "      <td>21430</td>\n",
       "      <td>24</td>\n",
       "    </tr>\n",
       "    <tr>\n",
       "      <th>1714</th>\n",
       "      <td>Brazil</td>\n",
       "      <td>22630</td>\n",
       "      <td>24</td>\n",
       "    </tr>\n",
       "    <tr>\n",
       "      <th>1716</th>\n",
       "      <td>Brazil</td>\n",
       "      <td>22697</td>\n",
       "      <td>24</td>\n",
       "    </tr>\n",
       "    <tr>\n",
       "      <th>1717</th>\n",
       "      <td>Brazil</td>\n",
       "      <td>22698</td>\n",
       "      <td>24</td>\n",
       "    </tr>\n",
       "    <tr>\n",
       "      <th>1718</th>\n",
       "      <td>Brazil</td>\n",
       "      <td>22699</td>\n",
       "      <td>24</td>\n",
       "    </tr>\n",
       "    <tr>\n",
       "      <th>1719</th>\n",
       "      <td>Brazil</td>\n",
       "      <td>22722</td>\n",
       "      <td>24</td>\n",
       "    </tr>\n",
       "  </tbody>\n",
       "</table>"
      ],
      "text/plain": [
       "<IPython.core.display.HTML object>"
      ]
     },
     "execution_count": 46,
     "metadata": {},
     "output_type": "execute_result"
    }
   ],
   "source": [
    "idx = df_country_product.groupby(['Country'])['Quantity'].transform(max) == df_country_product['Quantity']\n",
    "\n",
    "HTML(df_country_product[idx].head(10).to_html())"
   ]
  },
  {
   "cell_type": "markdown",
   "metadata": {},
   "source": [
    "Şimdi de müşteriler için çeşitli istatistikler çıkaralım. Müşterilerle ilgili pazarlama, segmentasyon, müşteri terki tahmini gib çalışmalarda sıklıkla kullanılan **RFM** (Recency, frequency, monetary / yakınlık, sıklık, mali) değişkenlerini `groupby` fonksiyonunu kullanarak oluşturacağız. Bu tip istatistikler aynı zamanda gerçekleştireceğiniz çalışmalarda öznitelik türetmek için de kullanılabilir.\n",
    "\n",
    "Her müşteri için aşağıdaki değişkenlerin değerlerini elde etmek istiyoruz:\n",
    "* Alışveriş sayısı\n",
    "* Toplam ve ortalama alışveriş miktarı\n",
    "* Satın alınan toplam ve ortalama (farklı) ürün sayısı \n",
    "* En son alışveriş tarihi\n",
    "\n",
    "Bunun için öncelike toplam alışveriş miktarını 'Amount' kolonuna yazdıracağız. Yapmamız gereken miktar (Quantity) ile birim fiyat (UnitPrice) kolonlarını çarpmak. \n",
    "\n",
    "Bunları yapmadan önce müşteri (CustomerID) kolonunda boş değerler olduğu için öncelikle bu alışverişleri veri setinden çıkaralım."
   ]
  },
  {
   "cell_type": "code",
   "execution_count": 47,
   "metadata": {},
   "outputs": [
    {
     "name": "stdout",
     "output_type": "stream",
     "text": [
      "Temizlik öncesi alışveriş sayısı: 541909\n",
      "Temizlik sonrası alışveriş sayısı: 406829\n"
     ]
    },
    {
     "name": "stderr",
     "output_type": "stream",
     "text": [
      "<ipython-input-47-73b168cf9ea0>:7: SettingWithCopyWarning: \n",
      "A value is trying to be set on a copy of a slice from a DataFrame.\n",
      "Try using .loc[row_indexer,col_indexer] = value instead\n",
      "\n",
      "See the caveats in the documentation: https://pandas.pydata.org/pandas-docs/stable/user_guide/indexing.html#returning-a-view-versus-a-copy\n",
      "  df['Amount'] = df['Quantity'] * df['UnitPrice']\n"
     ]
    },
    {
     "data": {
      "text/html": [
       "<table border=\"1\" class=\"dataframe\">\n",
       "  <thead>\n",
       "    <tr style=\"text-align: right;\">\n",
       "      <th></th>\n",
       "      <th>InvoiceNo</th>\n",
       "      <th>StockCode</th>\n",
       "      <th>Description</th>\n",
       "      <th>Quantity</th>\n",
       "      <th>InvoiceDate</th>\n",
       "      <th>UnitPrice</th>\n",
       "      <th>CustomerID</th>\n",
       "      <th>Country</th>\n",
       "      <th>Amount</th>\n",
       "    </tr>\n",
       "  </thead>\n",
       "  <tbody>\n",
       "    <tr>\n",
       "      <th>0</th>\n",
       "      <td>536365</td>\n",
       "      <td>85123A</td>\n",
       "      <td>WHITE HANGING HEART T-LIGHT HOLDER</td>\n",
       "      <td>6</td>\n",
       "      <td>2010-12-01 08:26:00</td>\n",
       "      <td>2.55</td>\n",
       "      <td>17850.0</td>\n",
       "      <td>United Kingdom</td>\n",
       "      <td>15.30</td>\n",
       "    </tr>\n",
       "    <tr>\n",
       "      <th>1</th>\n",
       "      <td>536365</td>\n",
       "      <td>71053</td>\n",
       "      <td>WHITE METAL LANTERN</td>\n",
       "      <td>6</td>\n",
       "      <td>2010-12-01 08:26:00</td>\n",
       "      <td>3.39</td>\n",
       "      <td>17850.0</td>\n",
       "      <td>United Kingdom</td>\n",
       "      <td>20.34</td>\n",
       "    </tr>\n",
       "    <tr>\n",
       "      <th>2</th>\n",
       "      <td>536365</td>\n",
       "      <td>84406B</td>\n",
       "      <td>CREAM CUPID HEARTS COAT HANGER</td>\n",
       "      <td>8</td>\n",
       "      <td>2010-12-01 08:26:00</td>\n",
       "      <td>2.75</td>\n",
       "      <td>17850.0</td>\n",
       "      <td>United Kingdom</td>\n",
       "      <td>22.00</td>\n",
       "    </tr>\n",
       "    <tr>\n",
       "      <th>3</th>\n",
       "      <td>536365</td>\n",
       "      <td>84029G</td>\n",
       "      <td>KNITTED UNION FLAG HOT WATER BOTTLE</td>\n",
       "      <td>6</td>\n",
       "      <td>2010-12-01 08:26:00</td>\n",
       "      <td>3.39</td>\n",
       "      <td>17850.0</td>\n",
       "      <td>United Kingdom</td>\n",
       "      <td>20.34</td>\n",
       "    </tr>\n",
       "    <tr>\n",
       "      <th>4</th>\n",
       "      <td>536365</td>\n",
       "      <td>84029E</td>\n",
       "      <td>RED WOOLLY HOTTIE WHITE HEART.</td>\n",
       "      <td>6</td>\n",
       "      <td>2010-12-01 08:26:00</td>\n",
       "      <td>3.39</td>\n",
       "      <td>17850.0</td>\n",
       "      <td>United Kingdom</td>\n",
       "      <td>20.34</td>\n",
       "    </tr>\n",
       "  </tbody>\n",
       "</table>"
      ],
      "text/plain": [
       "<IPython.core.display.HTML object>"
      ]
     },
     "execution_count": 47,
     "metadata": {},
     "output_type": "execute_result"
    }
   ],
   "source": [
    "# CustomerID değeri olmayan müşterileri veri setinden çıkaralım.\n",
    "print(\"Temizlik öncesi alışveriş sayısı: \" + str(len(df)))\n",
    "df = df[df['CustomerID'] > 0]\n",
    "print(\"Temizlik sonrası alışveriş sayısı: \" + str(len(df)))\n",
    "\n",
    "# Birim fiyat ve miktar değerlerini çarparak toplam tutarı bulalım.\n",
    "df['Amount'] = df['Quantity'] * df['UnitPrice']\n",
    "HTML(df.head().to_html())"
   ]
  },
  {
   "cell_type": "markdown",
   "metadata": {},
   "source": [
    "Alışverişleri önce müşteri (CustomerID) ve alışveriş (InvoiceNo) değerleri için gruplayalım. Bu sayede her alışveriş için sepetteki ürün sayısı ve sepetteki ürünleri toplam tutarını öğrenebiliriz. Her alışveriş için yapacağımız işlemler aşağıdakilerdir:\n",
    "* Farklı ürün sayısını bulmak (StockCode): Kullanacağımız yöntem `nunique` kaç tane tekil (unique) değer olduğuna bakar.\n",
    "* Sepetteki ürünlerin değerini toplamak (Amount): Kullanacağımız yöntem `sum` verilen kolonun değerlerini toplar.\n",
    "* Alışveriş tarihini belirlemek (InvoiceDate): Kullanacağımız değer `max` maksimum değeri verir. Burada max değerini kullanmamız şart değil. Sadece bu değeri bir sonraki tabloya da aktarmak istiyoruz.\n",
    "\n",
    "`agg` fonksiyonu dictionary yapısıyla bu farklı işlemleri tek satırda yapmamıza imkan tanıyor. "
   ]
  },
  {
   "cell_type": "code",
   "execution_count": 48,
   "metadata": {},
   "outputs": [
    {
     "data": {
      "text/html": [
       "<table border=\"1\" class=\"dataframe\">\n",
       "  <thead>\n",
       "    <tr style=\"text-align: right;\">\n",
       "      <th></th>\n",
       "      <th>CustomerID</th>\n",
       "      <th>InvoiceNo</th>\n",
       "      <th>StockCode</th>\n",
       "      <th>Amount</th>\n",
       "      <th>InvoiceDate</th>\n",
       "    </tr>\n",
       "  </thead>\n",
       "  <tbody>\n",
       "    <tr>\n",
       "      <th>0</th>\n",
       "      <td>12346.0</td>\n",
       "      <td>541431</td>\n",
       "      <td>1</td>\n",
       "      <td>77183.60</td>\n",
       "      <td>2011-01-18 10:01:00</td>\n",
       "    </tr>\n",
       "    <tr>\n",
       "      <th>1</th>\n",
       "      <td>12346.0</td>\n",
       "      <td>C541433</td>\n",
       "      <td>1</td>\n",
       "      <td>-77183.60</td>\n",
       "      <td>2011-01-18 10:17:00</td>\n",
       "    </tr>\n",
       "    <tr>\n",
       "      <th>2</th>\n",
       "      <td>12347.0</td>\n",
       "      <td>537626</td>\n",
       "      <td>31</td>\n",
       "      <td>711.79</td>\n",
       "      <td>2010-12-07 14:57:00</td>\n",
       "    </tr>\n",
       "    <tr>\n",
       "      <th>3</th>\n",
       "      <td>12347.0</td>\n",
       "      <td>542237</td>\n",
       "      <td>29</td>\n",
       "      <td>475.39</td>\n",
       "      <td>2011-01-26 14:30:00</td>\n",
       "    </tr>\n",
       "    <tr>\n",
       "      <th>4</th>\n",
       "      <td>12347.0</td>\n",
       "      <td>549222</td>\n",
       "      <td>24</td>\n",
       "      <td>636.25</td>\n",
       "      <td>2011-04-07 10:43:00</td>\n",
       "    </tr>\n",
       "  </tbody>\n",
       "</table>"
      ],
      "text/plain": [
       "<IPython.core.display.HTML object>"
      ]
     },
     "execution_count": 48,
     "metadata": {},
     "output_type": "execute_result"
    }
   ],
   "source": [
    "df_customer = df.groupby(['CustomerID', 'InvoiceNo']).agg({'StockCode':'nunique', \n",
    "                                                           'Amount':'sum', \n",
    "                                                           'InvoiceDate': 'max'}).reset_index()\n",
    "\n",
    "HTML(df_customer.head().to_html())"
   ]
  },
  {
   "cell_type": "markdown",
   "metadata": {},
   "source": [
    "Artık istediğimiz değerleri hesaplayabiliriz. Her müşteri ve alışveriş için oluşturduğumuz tabloyu müşteri bazında tekrar gruplayacağız. Yapmak istediğimiz işlemler aşağıdakilerdir:\n",
    "* İşlem sayısını bulmak: 'InvoiceNo' kolonundaki değerleri sayacağız. Değerler tekil olduğu için `count` fonksiyonunu kullanabiliriz.\n",
    "* Toplam ve ortalam işlem miktarını bulmak: 'Amount' kolonu için toplam ve ortalama (`mean`) değerleri bulacağız.\n",
    "* En son alışveriş tarihini bulmak: Her müşteri için 'InvoiceDate' kolonundaki maksimum değeri bulacağız.\n",
    "\n",
    "Miktar kolonunda yapacağımız iki işlem (toplam ve ortalama) için de dictionary yapısını ya da bir liste kullanabiliriz."
   ]
  },
  {
   "cell_type": "code",
   "execution_count": 49,
   "metadata": {},
   "outputs": [
    {
     "data": {
      "text/html": [
       "<table border=\"1\" class=\"dataframe\">\n",
       "  <thead>\n",
       "    <tr style=\"text-align: right;\">\n",
       "      <th></th>\n",
       "      <th>CustomerID</th>\n",
       "      <th>Number_of_Transactions</th>\n",
       "      <th>Total_Amount</th>\n",
       "      <th>Average_Amount</th>\n",
       "      <th>Last_Transaction_Date</th>\n",
       "    </tr>\n",
       "  </thead>\n",
       "  <tbody>\n",
       "    <tr>\n",
       "      <th>0</th>\n",
       "      <td>12346.0</td>\n",
       "      <td>2</td>\n",
       "      <td>0.00</td>\n",
       "      <td>0.000000</td>\n",
       "      <td>2011-01-18 10:17:00</td>\n",
       "    </tr>\n",
       "    <tr>\n",
       "      <th>1</th>\n",
       "      <td>12347.0</td>\n",
       "      <td>7</td>\n",
       "      <td>4310.00</td>\n",
       "      <td>615.714286</td>\n",
       "      <td>2011-12-07 15:52:00</td>\n",
       "    </tr>\n",
       "    <tr>\n",
       "      <th>2</th>\n",
       "      <td>12348.0</td>\n",
       "      <td>4</td>\n",
       "      <td>1797.24</td>\n",
       "      <td>449.310000</td>\n",
       "      <td>2011-09-25 13:13:00</td>\n",
       "    </tr>\n",
       "    <tr>\n",
       "      <th>3</th>\n",
       "      <td>12349.0</td>\n",
       "      <td>1</td>\n",
       "      <td>1757.55</td>\n",
       "      <td>1757.550000</td>\n",
       "      <td>2011-11-21 09:51:00</td>\n",
       "    </tr>\n",
       "    <tr>\n",
       "      <th>4</th>\n",
       "      <td>12350.0</td>\n",
       "      <td>1</td>\n",
       "      <td>334.40</td>\n",
       "      <td>334.400000</td>\n",
       "      <td>2011-02-02 16:01:00</td>\n",
       "    </tr>\n",
       "  </tbody>\n",
       "</table>"
      ],
      "text/plain": [
       "<IPython.core.display.HTML object>"
      ]
     },
     "execution_count": 49,
     "metadata": {},
     "output_type": "execute_result"
    }
   ],
   "source": [
    "df_customer = df_customer.groupby('CustomerID').agg({'InvoiceNo':'count', \n",
    "                                                     'Amount': ['sum','mean'],\n",
    "                                                    'InvoiceDate': 'max'}).reset_index()\n",
    "\n",
    "df_customer.columns = ['CustomerID', 'Number_of_Transactions', 'Total_Amount', 'Average_Amount', 'Last_Transaction_Date']\n",
    "HTML(df_customer.head().to_html())"
   ]
  },
  {
   "cell_type": "markdown",
   "metadata": {},
   "source": [
    "`groupby()`fonksiyonunu kullanarak veriyi özetledik. Bu noktadan sonra uygulamanıza göre veriden özetlediğiniz bilgileri kullanabilirsiniz.\n",
    "\n",
    "Jupyter Notebook dosyalarına ulaşmak için Github [dizinine](https://github.com/sibirbil/VeriDefteri) bakabilirsiniz."
   ]
  },
  {
   "cell_type": "code",
   "execution_count": null,
   "metadata": {},
   "outputs": [],
   "source": []
  }
 ],
 "metadata": {
  "kernelspec": {
   "display_name": "Python 3",
   "language": "python",
   "name": "python3"
  },
  "language_info": {
   "codemirror_mode": {
    "name": "ipython",
    "version": 3
   },
   "file_extension": ".py",
   "mimetype": "text/x-python",
   "name": "python",
   "nbconvert_exporter": "python",
   "pygments_lexer": "ipython3",
   "version": "3.8.3"
  }
 },
 "nbformat": 4,
 "nbformat_minor": 4
}
